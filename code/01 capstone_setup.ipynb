{
 "cells": [
  {
   "cell_type": "markdown",
   "metadata": {},
   "source": [
    "# <span style='color:#15317E'>01 Capstone Project Setup</span>"
   ]
  },
  {
   "cell_type": "code",
   "execution_count": 1,
   "metadata": {
    "collapsed": true
   },
   "outputs": [],
   "source": [
    "######\n",
    "#### Author: Byron Stuart\n",
    "#### Data Science Immersive Capstone Project\n",
    "#### Date 06 June 2017\n",
    "######"
   ]
  },
  {
   "cell_type": "markdown",
   "metadata": {},
   "source": [
    "## <span style='color:#7D6115'>Capstone Project Navigation</span>\n",
    "Step 1 - Capstone Project Setup<br>\n",
    "<a href='./02%20capstone_indicators.ipynb'>Step 2 - Capstone Indicator Notebook</a><br>\n",
    "<a href='./03%20capstone_eda_and_models.ipynb'>Step 3 - Capstone EDA and Models Notebook</a><br>\n",
    "<a href='./04%20capstone_report.ipynb'>Step 4 - Capstone Report Notebook</a><br>"
   ]
  },
  {
   "cell_type": "markdown",
   "metadata": {},
   "source": [
    "## <span style='color:#7D6115'>Specific Aim</span>\n",
    "To investigate and analyse the \"Health Nutrition and Population Statistics\" dataset which attempts to depict the state of human health across the world. This dataset - https://www.kaggle.com/theworldbank/health-nutrition-and-population-statistics - is provided by https://www.kaggle.com/theworldbank. The Content and Context paragraphs (see next section) are verbatim text from the Kaggle overview section.\n",
    "\n",
    "More specifically to find indicators that are able to predict life expectancy and quality of life. Quality of life is a subjective measure and as I work through the project I will define my specific measures of it. Note that there may end up being more than one neat, well defined definition."
   ]
  },
  {
   "cell_type": "markdown",
   "metadata": {},
   "source": [
    "### Content\n",
    "\"HealthStats provides key health, nutrition and population statistics gathered from a variety of international sources. Themes include population dynamics, nutrition, reproductive health, health financing, medical resources and usage, immunization, infectious diseases, HIV/AIDS, DALY, population projections and lending. HealthStats also includes health, nutrition and population statistics by wealth quintiles.\"\n",
    "\n",
    "### Context\n",
    "\"This dataset includes 345 indicators, such as immunization rates, malnutrition prevalence, and vitamin A supplementation rates across 263 countries around the world. Data was collected on a yearly basis from 1960-2016.\""
   ]
  },
  {
   "cell_type": "markdown",
   "metadata": {},
   "source": [
    "## <span style='color:#7D6115'>Proposed Methods and Models</span>\n",
    "\n",
    "### Study Scope\n",
    "* 1975 to 2015 - 41 years (discard 1960-1974 data)\n",
    "* Long term trends (the initial EDA will primarily focus here)\n",
    "* Short term trends\n",
    "* Not all indicators will be examined\n",
    "    * Some will be eliminated by choice\n",
    "    * Some will be eliminated due to lack of data\n",
    "\n",
    "### Outside of Scope\n",
    "* Medium Term Trends\n",
    "\n",
    "### Statistical Tools\n",
    "* Standardisation of columns\n",
    "* Correlation analysis\n",
    "* Histograms\n",
    "* Bar charts\n",
    "* Line plots"
   ]
  },
  {
   "cell_type": "markdown",
   "metadata": {},
   "source": [
    "## <span style='color:#7D6115'>Risks and Assumptions</span>\n",
    "* That the Kaggle dataset is an accurate recording of collected statistics.\n",
    "* Null or empty values implies an absence of data in most cases not a data entry error.\n",
    "* Normal data distributions\n",
    "* Effective methods will be found for combining some of the many categories into measurable features"
   ]
  },
  {
   "cell_type": "markdown",
   "metadata": {},
   "source": [
    "## <span style='color:#7D6115'>Evaluate Results</span>\n",
    "* More analysis is required but there appears to be a strong relationship between life expectancy and the following areas of data:\n",
    "    * access to better water sources (trending up)\n",
    "    * access to improved sanitation (trending up)\n",
    "    * children orphaned by AIDS (trending down)\n",
    "    * immunization against measles (plateaued)\n",
    "    * rich versus poor divide could be a future major area of study, not just do wealthy countries achieve better outcomes but also do they spend money inefficiently.\n",
    "* Some of the data is not normally distributed.\n",
    "* There are more holes in the data (missing values) than there appeared to be at first. These will need to be examined and actioned on a case by case basis.\n",
    "\n",
    "## <span style='color:#7D6115'>Future data reduction techniques</span>\n",
    "Because of the many indicators supplied in the data set it is clear that rigorous processes will need to be applied to reduce the noise in the data. Lasso, Recursive Feature Elimination and Feature Importance (Extra Trees) are potentials to be used in this regard."
   ]
  },
  {
   "cell_type": "markdown",
   "metadata": {},
   "source": [
    "### Initial progam imports as supplied by Kaggle"
   ]
  },
  {
   "cell_type": "code",
   "execution_count": 2,
   "metadata": {
    "collapsed": true
   },
   "outputs": [],
   "source": [
    "# This Python 3 environment comes with many helpful analytics libraries installed\n",
    "# It is defined by the kaggle/python docker image: https://github.com/kaggle/docker-python\n",
    "# For example, here's several helpful packages to load in \n",
    "\n",
    "import numpy as np # linear algebra\n",
    "import pandas as pd # data processing, CSV file I/O (e.g. pd.read_csv)\n",
    "import matplotlib.pyplot as plt\n",
    "import seaborn as sns"
   ]
  },
  {
   "cell_type": "markdown",
   "metadata": {},
   "source": [
    "### Read in the data <a name='import_data' />"
   ]
  },
  {
   "cell_type": "code",
   "execution_count": 3,
   "metadata": {
    "collapsed": false
   },
   "outputs": [],
   "source": [
    "#from subprocess import check_output\n",
    "#print(check_output([\"ls\", \"../input\"]).decode(\"utf8\")) # Does not work in a Windows environment\n",
    "\n",
    "# Any results you write to the current directory are saved as output.\n",
    "data = pd.read_csv('../input/data.csv', encoding='utf-8')"
   ]
  },
  {
   "cell_type": "markdown",
   "metadata": {},
   "source": [
    "### Initial look at the data\n",
    "The data appears to be clean and accurate. Any null values do not look random, that is they occur in blocks implying an absence of data available rather than missed data. The data is stored in a long format, that is each row relates to a 'country' and 'indicator' resulting in many rows of data. There is a column of data for each year from 1960-2015."
   ]
  },
  {
   "cell_type": "code",
   "execution_count": 4,
   "metadata": {
    "collapsed": false,
    "scrolled": true
   },
   "outputs": [
    {
     "name": "stdout",
     "output_type": "stream",
     "text": [
      "  Country Name Country Code  \\\n",
      "0   Arab World          ARB   \n",
      "1   Arab World          ARB   \n",
      "2   Arab World          ARB   \n",
      "\n",
      "                                      Indicator Name     Indicator Code  \\\n",
      "0  % of females ages 15-49 having comprehensive c...  SH.HIV.KNOW.FE.ZS   \n",
      "1  % of males ages 15-49 having comprehensive cor...  SH.HIV.KNOW.MA.ZS   \n",
      "2  Adolescent fertility rate (births per 1,000 wo...        SP.ADO.TFRT   \n",
      "\n",
      "         1960        1961        1962        1963        1964        1965  \\\n",
      "0         NaN         NaN         NaN         NaN         NaN         NaN   \n",
      "1         NaN         NaN         NaN         NaN         NaN         NaN   \n",
      "2  133.555013  134.159119  134.857912  134.504576  134.105211  133.569626   \n",
      "\n",
      "      ...            2007       2008       2009       2010       2011  \\\n",
      "0     ...             NaN        NaN        NaN        NaN        NaN   \n",
      "1     ...             NaN        NaN        NaN        NaN        NaN   \n",
      "2     ...       49.999851  49.887046  49.781207  49.672975  49.536047   \n",
      "\n",
      "        2012       2013       2014  2015  Unnamed: 60  \n",
      "0        NaN        NaN        NaN   NaN          NaN  \n",
      "1        NaN        NaN        NaN   NaN          NaN  \n",
      "2  49.383745  48.796558  48.196418   NaN          NaN  \n",
      "\n",
      "[3 rows x 61 columns]\n"
     ]
    }
   ],
   "source": [
    "print(data.head(3))"
   ]
  },
  {
   "cell_type": "markdown",
   "metadata": {},
   "source": [
    "### Column names\n",
    "As expected except for 'Unnamed: 60', investigate further."
   ]
  },
  {
   "cell_type": "code",
   "execution_count": 5,
   "metadata": {
    "collapsed": false
   },
   "outputs": [
    {
     "data": {
      "text/plain": [
       "Index(['Country Name', 'Country Code', 'Indicator Name', 'Indicator Code',\n",
       "       '1960', '1961', '1962', '1963', '1964', '1965', '1966', '1967', '1968',\n",
       "       '1969', '1970', '1971', '1972', '1973', '1974', '1975', '1976', '1977',\n",
       "       '1978', '1979', '1980', '1981', '1982', '1983', '1984', '1985', '1986',\n",
       "       '1987', '1988', '1989', '1990', '1991', '1992', '1993', '1994', '1995',\n",
       "       '1996', '1997', '1998', '1999', '2000', '2001', '2002', '2003', '2004',\n",
       "       '2005', '2006', '2007', '2008', '2009', '2010', '2011', '2012', '2013',\n",
       "       '2014', '2015', 'Unnamed: 60'],\n",
       "      dtype='object')"
      ]
     },
     "execution_count": 5,
     "metadata": {},
     "output_type": "execute_result"
    }
   ],
   "source": [
    "data.columns"
   ]
  },
  {
   "cell_type": "code",
   "execution_count": 6,
   "metadata": {
    "collapsed": false
   },
   "outputs": [
    {
     "name": "stdout",
     "output_type": "stream",
     "text": [
      "Size: (89010,) Null count: 89010\n"
     ]
    }
   ],
   "source": [
    "# Check 'Unnamed: 60' for size and null values\n",
    "print(\"Size:\", data['Unnamed: 60'].shape, \"Null count:\", data['Unnamed: 60'].isnull().sum())\n",
    "\n",
    "# All null so drop the column\n",
    "data.drop(['Unnamed: 60'], axis=1, inplace=True)"
   ]
  },
  {
   "cell_type": "markdown",
   "metadata": {},
   "source": [
    "## <span style='color:#7D6115'>Define Project Constants</span>\n",
    "These will be automatically used by the Python code on the original data set to set it up. Note that these are the initial values and may change as further investigation is undertaken. <a name='years_remove' />"
   ]
  },
  {
   "cell_type": "code",
   "execution_count": 7,
   "metadata": {
    "collapsed": false
   },
   "outputs": [
    {
     "name": "stdout",
     "output_type": "stream",
     "text": [
      "['1975', '1976', '1977', '1978', '1979', '1980', '1981', '1982', '1983', '1984', '1985', '1986', '1987', '1988', '1989', '1990', '1991', '1992', '1993', '1994', '1995', '1996', '1997', '1998', '1999', '2000', '2001', '2002', '2003', '2004', '2005', '2006', '2007', '2008', '2009', '2010', '2011', '2012', '2013', '2014', '2015']\n"
     ]
    }
   ],
   "source": [
    "# This constant defines the maxiumum number of null years to accept before rejecting the indicator\n",
    "null_years_const = 100 # this value may be altered\n",
    "\n",
    "# Restrict this capstone study to the last 41 years of data - this value may be altered\n",
    "years_to_remove = ['1960', '1961', '1962', '1963', '1964', '1965', \n",
    "                   '1966', '1967', '1968', '1969', '1970', '1971', '1972', '1973', '1974']\n",
    "\n",
    "year_columns = list(data.columns[4:])\n",
    "for year in years_to_remove:\n",
    "    year_columns.remove(year)\n",
    "print(year_columns)\n",
    "\n",
    "data.drop(years_to_remove, axis=1, inplace=True)"
   ]
  },
  {
   "cell_type": "markdown",
   "metadata": {},
   "source": [
    "## <span style='color:#7D6115'>Data Dictionary</span>"
   ]
  },
  {
   "cell_type": "markdown",
   "metadata": {},
   "source": [
    "The data consists of (see data.dtypes output in the next cell below):\n",
    "* Country Name : Object of variable length (some are combinations based on geographic regions or by other groupings)\n",
    "* Country Code : Object of 3 alphabetic characters (related to the Country Name)\n",
    "* Indicator Name : Object of variable length (what the metrics stored in the year columns are about)\n",
    "* Indicator Code : Object of variable length alphabetic + full stops '.' (related to the Indicator Name)\n",
    "* Years 1975 to 2015: float64 in the form of\n",
    "    * A percentage\n",
    "    * Absolute numbers of population\n",
    "    * Rates (per 1,000 people, per 100,000 people) - these could possibly be converted to percentages, leave for now"
   ]
  },
  {
   "cell_type": "code",
   "execution_count": 8,
   "metadata": {
    "collapsed": false
   },
   "outputs": [
    {
     "name": "stdout",
     "output_type": "stream",
     "text": [
      "Shape : {'rows:': 89010, 'columns:': 45}\n",
      "Country Name : [dtype('O'), 'Country Name String']\n",
      "Country Code : [dtype('O'), 'Country Code String']\n",
      "Indicator Name : [dtype('O'), 'Indicator Name String']\n",
      "Indicator Code : [dtype('O'), 'Indicator Code String']\n",
      "1975 : [dtype('float64'), '1975 Data Values']\n",
      "1976 : [dtype('float64'), '1976 Data Values']\n",
      "1977 : [dtype('float64'), '1977 Data Values']\n",
      "1978 : [dtype('float64'), '1978 Data Values']\n",
      "1979 : [dtype('float64'), '1979 Data Values']\n",
      "1980 : [dtype('float64'), '1980 Data Values']\n",
      "1981 : [dtype('float64'), '1981 Data Values']\n",
      "1982 : [dtype('float64'), '1982 Data Values']\n",
      "1983 : [dtype('float64'), '1983 Data Values']\n",
      "1984 : [dtype('float64'), '1984 Data Values']\n",
      "1985 : [dtype('float64'), '1985 Data Values']\n",
      "1986 : [dtype('float64'), '1986 Data Values']\n",
      "1987 : [dtype('float64'), '1987 Data Values']\n",
      "1988 : [dtype('float64'), '1988 Data Values']\n",
      "1989 : [dtype('float64'), '1989 Data Values']\n",
      "1990 : [dtype('float64'), '1990 Data Values']\n",
      "1991 : [dtype('float64'), '1991 Data Values']\n",
      "1992 : [dtype('float64'), '1992 Data Values']\n",
      "1993 : [dtype('float64'), '1993 Data Values']\n",
      "1994 : [dtype('float64'), '1994 Data Values']\n",
      "1995 : [dtype('float64'), '1995 Data Values']\n",
      "1996 : [dtype('float64'), '1996 Data Values']\n",
      "1997 : [dtype('float64'), '1997 Data Values']\n",
      "1998 : [dtype('float64'), '1998 Data Values']\n",
      "1999 : [dtype('float64'), '1999 Data Values']\n",
      "2000 : [dtype('float64'), '2000 Data Values']\n",
      "2001 : [dtype('float64'), '2001 Data Values']\n",
      "2002 : [dtype('float64'), '2002 Data Values']\n",
      "2003 : [dtype('float64'), '2003 Data Values']\n",
      "2004 : [dtype('float64'), '2004 Data Values']\n",
      "2005 : [dtype('float64'), '2005 Data Values']\n",
      "2006 : [dtype('float64'), '2006 Data Values']\n",
      "2007 : [dtype('float64'), '2007 Data Values']\n",
      "2008 : [dtype('float64'), '2008 Data Values']\n",
      "2009 : [dtype('float64'), '2009 Data Values']\n",
      "2010 : [dtype('float64'), '2010 Data Values']\n",
      "2011 : [dtype('float64'), '2011 Data Values']\n",
      "2012 : [dtype('float64'), '2012 Data Values']\n",
      "2013 : [dtype('float64'), '2013 Data Values']\n",
      "2014 : [dtype('float64'), '2014 Data Values']\n",
      "2015 : [dtype('float64'), '2015 Data Values']\n"
     ]
    }
   ],
   "source": [
    "# Create a Python \"data dictionary\" based on the data\n",
    "\n",
    "# A data dictionary is an object that describes your data. This should contain the name of\n",
    "# each variable (column), the type of the variable, your description of what the variable is, \n",
    "# and the shape (rows and columns) of the entire dataset.\n",
    "\n",
    "health_stats_dict = {}\n",
    "\n",
    "health_stats_dict['Shape'] = {\"rows:\" : data.shape[0], \"columns:\" : data.shape[1]}\n",
    "\n",
    "for col, value in zip(data.columns.values, data.dtypes):\n",
    "    health_stats_dict[col] = [value, (col+\" Data Values\") if (col[0].isdigit()) else (col+\" String\")]\n",
    "\n",
    "for keys,values in health_stats_dict.items():\n",
    "    print(keys, ':', values)"
   ]
  },
  {
   "cell_type": "markdown",
   "metadata": {},
   "source": [
    "### Data types\n",
    "The columns that specify the country and indicator are objects, everything else is a float, these types do not need to be changed."
   ]
  },
  {
   "cell_type": "code",
   "execution_count": 9,
   "metadata": {
    "collapsed": false,
    "scrolled": true
   },
   "outputs": [
    {
     "data": {
      "text/plain": [
       "Country Name       object\n",
       "Country Code       object\n",
       "Indicator Name     object\n",
       "Indicator Code     object\n",
       "1975              float64\n",
       "1976              float64\n",
       "1977              float64\n",
       "1978              float64\n",
       "1979              float64\n",
       "1980              float64\n",
       "1981              float64\n",
       "1982              float64\n",
       "1983              float64\n",
       "1984              float64\n",
       "1985              float64\n",
       "1986              float64\n",
       "1987              float64\n",
       "1988              float64\n",
       "1989              float64\n",
       "1990              float64\n",
       "1991              float64\n",
       "1992              float64\n",
       "1993              float64\n",
       "1994              float64\n",
       "1995              float64\n",
       "1996              float64\n",
       "1997              float64\n",
       "1998              float64\n",
       "1999              float64\n",
       "2000              float64\n",
       "2001              float64\n",
       "2002              float64\n",
       "2003              float64\n",
       "2004              float64\n",
       "2005              float64\n",
       "2006              float64\n",
       "2007              float64\n",
       "2008              float64\n",
       "2009              float64\n",
       "2010              float64\n",
       "2011              float64\n",
       "2012              float64\n",
       "2013              float64\n",
       "2014              float64\n",
       "2015              float64\n",
       "dtype: object"
      ]
     },
     "execution_count": 9,
     "metadata": {},
     "output_type": "execute_result"
    }
   ],
   "source": [
    "data.dtypes"
   ]
  },
  {
   "cell_type": "markdown",
   "metadata": {},
   "source": [
    "## <span style='color:#7D6115'>Start of EDA</span>\n",
    "Determine which indicators have enough data to keep."
   ]
  },
  {
   "cell_type": "code",
   "execution_count": 10,
   "metadata": {
    "collapsed": false
   },
   "outputs": [
    {
     "name": "stdout",
     "output_type": "stream",
     "text": [
      "Number of indicators: 345\n"
     ]
    }
   ],
   "source": [
    "# Convert all indicators to lower case for easier comparison\n",
    "data['Indicator Name'] = data['Indicator Name'].str.lower()\n",
    "indicators = data['Indicator Name'].unique()\n",
    "print(\"Number of indicators:\", len(indicators))"
   ]
  },
  {
   "cell_type": "code",
   "execution_count": 11,
   "metadata": {
    "collapsed": true
   },
   "outputs": [],
   "source": [
    "def check_group(indicators, identity):\n",
    "    identity = identity.lower()\n",
    "    population = [ind for ind in indicators if identity in ind]\n",
    "    return population"
   ]
  },
  {
   "cell_type": "markdown",
   "metadata": {},
   "source": [
    "### Function to return data by any combination of countries, indicators and years"
   ]
  },
  {
   "cell_type": "code",
   "execution_count": 12,
   "metadata": {
    "collapsed": false
   },
   "outputs": [],
   "source": [
    "# function to return data by any combination of countries, indicators and years\n",
    "def data_countries_indicators_years(countries=[], indicators=[], years=[]):\n",
    "    #print(countries, indicators, years)\n",
    "\n",
    "    # create empty dataframe\n",
    "    return_data = pd.DataFrame()\n",
    "    if (len(countries) == 0):\n",
    "        #print(\"All countries\")\n",
    "        return_data = data\n",
    "    else:\n",
    "        mask = data['Country Name'].isin(countries)\n",
    "        return_data = data[mask]\n",
    "        #print(type(return_data), return_data.shape)\n",
    "\n",
    "    if (len(indicators) == 0):\n",
    "       #print(\"All indicators\")\n",
    "        pass\n",
    "    else:\n",
    "        mask = return_data['Indicator Name'].isin(indicators)\n",
    "        return_data = return_data[mask]\n",
    "        #print(type(return_data), return_data.shape)\n",
    "        \n",
    "    columns = ['Country Name', 'Indicator Name', 'Indicator Code']   \n",
    "    if (len(years) == 0):\n",
    "        #print(\"All years\")\n",
    "        for year in year_columns:\n",
    "            columns.append(year)\n",
    "        return_data = return_data[columns]\n",
    "    else:\n",
    "        return_data = return_data[columns + years]\n",
    "\n",
    "    return return_data"
   ]
  },
  {
   "cell_type": "markdown",
   "metadata": {},
   "source": [
    "### Function to return which indicators have sufficient data <a name='check_indicators' />\n",
    "Some indicators have little data and are not suitable for widescale comparisons. Constants have been defined that will automatically discard some indicators. Run a few tests to try and find a compromise between not throwing out a lot of data and not having too many missing values. See test results within this notebook."
   ]
  },
  {
   "cell_type": "code",
   "execution_count": 13,
   "metadata": {
    "collapsed": false
   },
   "outputs": [],
   "source": [
    "# function to return which indicators have 'adequate' data, will iterate through any combination of countries and indicators\n",
    "def get_countries_indicators(the_data, years=year_columns):\n",
    "    #print(years)\n",
    "\n",
    "    # create empty list\n",
    "    return_indicators = []\n",
    "\n",
    "    # Check for null values\n",
    "    for ind in indicators:\n",
    "        ind_data = the_data[the_data['Indicator Name'] == ind]\n",
    "        #print(ind_data)\n",
    "        null_years = np.sum(ind_data[years].isnull().sum())\n",
    "        #print(ind_data.shape, null_years, ind)\n",
    "        if null_years <= null_years_const:\n",
    "            return_indicators.append(ind)\n",
    "            #print(null_years, ind)\n",
    "    \n",
    "    return return_indicators"
   ]
  },
  {
   "cell_type": "markdown",
   "metadata": {},
   "source": [
    "### Show 'country' details"
   ]
  },
  {
   "cell_type": "code",
   "execution_count": 14,
   "metadata": {
    "collapsed": false
   },
   "outputs": [
    {
     "name": "stdout",
     "output_type": "stream",
     "text": [
      "Total Countries: 258\n",
      "Combinations of Countries: 41\n"
     ]
    }
   ],
   "source": [
    "# there are 258 'countries' in total\n",
    "countries = data['Country Name'].unique()\n",
    "print(\"Total Countries:\", len(countries))\n",
    "\n",
    "# there are 41 combinations of countries in total (not only geographic combinations)\n",
    "countries_combos = list(countries[0:41])\n",
    "print(\"Combinations of Countries:\", len(countries_combos))"
   ]
  },
  {
   "cell_type": "markdown",
   "metadata": {},
   "source": [
    "### Indicators with Rates (per 1,000 people, per 100,000 people)"
   ]
  },
  {
   "cell_type": "code",
   "execution_count": 15,
   "metadata": {
    "collapsed": false
   },
   "outputs": [
    {
     "name": "stdout",
     "output_type": "stream",
     "text": [
      "adolescent fertility rate (births per 1,000 women ages 15-19)\n",
      "birth rate, crude (per 1,000 people)\n",
      "community health workers (per 1,000 people)\n",
      "death rate, crude (per 1,000 people)\n",
      "hospital beds (per 1,000 people)\n",
      "incidence of tuberculosis (per 100,000 people)\n",
      "maternal mortality ratio (modeled estimate, per 100,000 live births)\n",
      "maternal mortality ratio (national estimate, per 100,000 live births)\n",
      "mortality caused by road traffic injury (per 100,000 people)\n",
      "mortality rate, adult, female (per 1,000 female adults)\n",
      "mortality rate, adult, male (per 1,000 male adults)\n",
      "mortality rate, infant (per 1,000 live births)\n",
      "mortality rate, infant, female (per 1,000 live births)\n",
      "mortality rate, infant, male (per 1,000 live births)\n",
      "mortality rate, neonatal (per 1,000 live births)\n",
      "mortality rate, under-5 (per 1,000)\n",
      "mortality rate, under-5, female (per 1,000)\n",
      "mortality rate, under-5, male (per 1,000)\n",
      "number of surgical procedures (per 100,000 population)\n",
      "nurses and midwives (per 1,000 people)\n",
      "physicians (per 1,000 people)\n",
      "prevalence of tuberculosis (per 100,000 population)\n",
      "specialist surgical workforce (per 100,000 population)\n",
      "tuberculosis death rate (per 100,000 people)\n"
     ]
    }
   ],
   "source": [
    "for ind in indicators:\n",
    "    if '000' in ind:\n",
    "        print(ind)"
   ]
  },
  {
   "cell_type": "code",
   "execution_count": 16,
   "metadata": {
    "collapsed": false
   },
   "outputs": [],
   "source": [
    "# convert to percentage\n",
    "for ind in indicators:\n",
    "    if '100,000' in ind:\n",
    "        #print(ind)\n",
    "        the_data = data[data['Indicator Name']==ind][year_columns]/1000\n",
    "        #print(the_data)\n",
    "        data.ix[data['Indicator Name']==ind, year_columns] = the_data"
   ]
  },
  {
   "cell_type": "code",
   "execution_count": 17,
   "metadata": {
    "collapsed": false
   },
   "outputs": [],
   "source": [
    "# convert to percentage\n",
    "for ind in indicators:\n",
    "    if '1,000' in ind:\n",
    "        #print(ind)\n",
    "        the_data = data[data['Indicator Name']==ind][year_columns]/10\n",
    "        #print(the_data)\n",
    "        data.ix[data['Indicator Name']==ind, year_columns] = the_data"
   ]
  },
  {
   "cell_type": "markdown",
   "metadata": {},
   "source": [
    "### Make a separate World dataset\n",
    "This set is used for the initial test of predicting life expectancy."
   ]
  },
  {
   "cell_type": "code",
   "execution_count": 18,
   "metadata": {
    "collapsed": false
   },
   "outputs": [
    {
     "data": {
      "text/html": [
       "<div>\n",
       "<table border=\"1\" class=\"dataframe\">\n",
       "  <thead>\n",
       "    <tr style=\"text-align: right;\">\n",
       "      <th></th>\n",
       "      <th>Country Name</th>\n",
       "      <th>Indicator Name</th>\n",
       "      <th>Indicator Code</th>\n",
       "      <th>1975</th>\n",
       "      <th>1976</th>\n",
       "      <th>1977</th>\n",
       "      <th>1978</th>\n",
       "      <th>1979</th>\n",
       "      <th>1980</th>\n",
       "      <th>1981</th>\n",
       "      <th>...</th>\n",
       "      <th>2006</th>\n",
       "      <th>2007</th>\n",
       "      <th>2008</th>\n",
       "      <th>2009</th>\n",
       "      <th>2010</th>\n",
       "      <th>2011</th>\n",
       "      <th>2012</th>\n",
       "      <th>2013</th>\n",
       "      <th>2014</th>\n",
       "      <th>2015</th>\n",
       "    </tr>\n",
       "  </thead>\n",
       "  <tbody>\n",
       "    <tr>\n",
       "      <th>13800</th>\n",
       "      <td>World</td>\n",
       "      <td>% of females ages 15-49 having comprehensive c...</td>\n",
       "      <td>SH.HIV.KNOW.FE.ZS</td>\n",
       "      <td>0.0</td>\n",
       "      <td>0.0</td>\n",
       "      <td>0.0</td>\n",
       "      <td>0.0</td>\n",
       "      <td>0.0</td>\n",
       "      <td>0.0</td>\n",
       "      <td>0.0</td>\n",
       "      <td>...</td>\n",
       "      <td>0.0</td>\n",
       "      <td>0.0</td>\n",
       "      <td>0.0</td>\n",
       "      <td>0.0</td>\n",
       "      <td>0.0</td>\n",
       "      <td>0.0</td>\n",
       "      <td>0.0</td>\n",
       "      <td>0.0</td>\n",
       "      <td>0.0</td>\n",
       "      <td>0.0</td>\n",
       "    </tr>\n",
       "    <tr>\n",
       "      <th>13801</th>\n",
       "      <td>World</td>\n",
       "      <td>% of males ages 15-49 having comprehensive cor...</td>\n",
       "      <td>SH.HIV.KNOW.MA.ZS</td>\n",
       "      <td>0.0</td>\n",
       "      <td>0.0</td>\n",
       "      <td>0.0</td>\n",
       "      <td>0.0</td>\n",
       "      <td>0.0</td>\n",
       "      <td>0.0</td>\n",
       "      <td>0.0</td>\n",
       "      <td>...</td>\n",
       "      <td>0.0</td>\n",
       "      <td>0.0</td>\n",
       "      <td>0.0</td>\n",
       "      <td>0.0</td>\n",
       "      <td>0.0</td>\n",
       "      <td>0.0</td>\n",
       "      <td>0.0</td>\n",
       "      <td>0.0</td>\n",
       "      <td>0.0</td>\n",
       "      <td>0.0</td>\n",
       "    </tr>\n",
       "  </tbody>\n",
       "</table>\n",
       "<p>2 rows × 44 columns</p>\n",
       "</div>"
      ],
      "text/plain": [
       "      Country Name                                     Indicator Name  \\\n",
       "13800        World  % of females ages 15-49 having comprehensive c...   \n",
       "13801        World  % of males ages 15-49 having comprehensive cor...   \n",
       "\n",
       "          Indicator Code  1975  1976  1977  1978  1979  1980  1981  ...   \\\n",
       "13800  SH.HIV.KNOW.FE.ZS   0.0   0.0   0.0   0.0   0.0   0.0   0.0  ...    \n",
       "13801  SH.HIV.KNOW.MA.ZS   0.0   0.0   0.0   0.0   0.0   0.0   0.0  ...    \n",
       "\n",
       "       2006  2007  2008  2009  2010  2011  2012  2013  2014  2015  \n",
       "13800   0.0   0.0   0.0   0.0   0.0   0.0   0.0   0.0   0.0   0.0  \n",
       "13801   0.0   0.0   0.0   0.0   0.0   0.0   0.0   0.0   0.0   0.0  \n",
       "\n",
       "[2 rows x 44 columns]"
      ]
     },
     "execution_count": 18,
     "metadata": {},
     "output_type": "execute_result"
    }
   ],
   "source": [
    "# Will use World as a stand alone (not as part of other combos)\n",
    "world_category = ['World']\n",
    "world_data = data_countries_indicators_years(world_category)\n",
    "world_data.fillna(0, inplace=True)\n",
    "world_data.head(2)\n",
    "\n",
    "# write world_data to file\n",
    "#world_data.to_csv('./world_data.csv')"
   ]
  },
  {
   "cell_type": "markdown",
   "metadata": {},
   "source": [
    "### Determine which combinations of countries will be used and which ones discarded\n",
    "There are many combinations and it is beyond the scope of this project to investigate every single one, some of them will be discarded."
   ]
  },
  {
   "cell_type": "code",
   "execution_count": 19,
   "metadata": {
    "collapsed": true
   },
   "outputs": [],
   "source": [
    "# 'World' has been saved separately so remove it\n",
    "countries_combos.remove('World')\n",
    "\n",
    "# Not interested in these combinations\n",
    "countries_combos.remove('Early-demographic dividend')\n",
    "countries_combos.remove('Late-demographic dividend')\n",
    "countries_combos.remove('Pre-demographic dividend')\n",
    "countries_combos.remove('Post-demographic dividend')\n",
    "\n",
    "# No medium or large state categories to compare them to so remove\n",
    "countries_combos.remove('Other small states')\n",
    "countries_combos.remove('Small states')\n",
    "\n",
    "# Stick to analysing broad regions without further breakdowns, remove income sub categories\n",
    "countries_combos.remove('East Asia & Pacific (excluding high income)')\n",
    "countries_combos.remove('East Asia & Pacific (IDA & IBRD countries)')\n",
    "countries_combos.remove('Europe & Central Asia (excluding high income)')\n",
    "countries_combos.remove('Europe & Central Asia (IDA & IBRD countries)')\n",
    "countries_combos.remove('Latin America & Caribbean (excluding high income)')\n",
    "countries_combos.remove('Latin America & the Caribbean (IDA & IBRD countries)')\n",
    "countries_combos.remove('Middle East & North Africa (excluding high income)')\n",
    "countries_combos.remove('Middle East & North Africa (IDA & IBRD countries)')\n",
    "countries_combos.remove('South Asia (IDA & IBRD)')\n",
    "countries_combos.remove('Sub-Saharan Africa (excluding high income)')\n",
    "countries_combos.remove('Sub-Saharan Africa (IDA & IBRD countries)')\n",
    "countries_combos.remove('OECD members')"
   ]
  },
  {
   "cell_type": "markdown",
   "metadata": {},
   "source": [
    "### Make datasets based on broad cross country income categories\n",
    "Income sub categories were removed in the previous step."
   ]
  },
  {
   "cell_type": "code",
   "execution_count": 20,
   "metadata": {
    "collapsed": false
   },
   "outputs": [
    {
     "name": "stdout",
     "output_type": "stream",
     "text": [
      "['High income', 'Low & middle income', 'Low income', 'Lower middle income', 'Middle income', 'Upper middle income']\n",
      "\n",
      "income_categories has 345 indicators with adequate data\n"
     ]
    },
    {
     "data": {
      "text/html": [
       "<div>\n",
       "<table border=\"1\" class=\"dataframe\">\n",
       "  <thead>\n",
       "    <tr style=\"text-align: right;\">\n",
       "      <th></th>\n",
       "      <th>Country Name</th>\n",
       "      <th>Indicator Name</th>\n",
       "      <th>Indicator Code</th>\n",
       "      <th>1975</th>\n",
       "      <th>1976</th>\n",
       "      <th>1977</th>\n",
       "      <th>1978</th>\n",
       "      <th>1979</th>\n",
       "      <th>1980</th>\n",
       "      <th>1981</th>\n",
       "      <th>...</th>\n",
       "      <th>2006</th>\n",
       "      <th>2007</th>\n",
       "      <th>2008</th>\n",
       "      <th>2009</th>\n",
       "      <th>2010</th>\n",
       "      <th>2011</th>\n",
       "      <th>2012</th>\n",
       "      <th>2013</th>\n",
       "      <th>2014</th>\n",
       "      <th>2015</th>\n",
       "    </tr>\n",
       "  </thead>\n",
       "  <tbody>\n",
       "    <tr>\n",
       "      <th>4830</th>\n",
       "      <td>High income</td>\n",
       "      <td>% of females ages 15-49 having comprehensive c...</td>\n",
       "      <td>SH.HIV.KNOW.FE.ZS</td>\n",
       "      <td>0.0</td>\n",
       "      <td>0.0</td>\n",
       "      <td>0.0</td>\n",
       "      <td>0.0</td>\n",
       "      <td>0.0</td>\n",
       "      <td>0.0</td>\n",
       "      <td>0.0</td>\n",
       "      <td>...</td>\n",
       "      <td>0.0</td>\n",
       "      <td>0.0</td>\n",
       "      <td>0.0</td>\n",
       "      <td>0.0</td>\n",
       "      <td>0.0</td>\n",
       "      <td>0.0</td>\n",
       "      <td>0.0</td>\n",
       "      <td>0.0</td>\n",
       "      <td>0.0</td>\n",
       "      <td>0.0</td>\n",
       "    </tr>\n",
       "    <tr>\n",
       "      <th>4831</th>\n",
       "      <td>High income</td>\n",
       "      <td>% of males ages 15-49 having comprehensive cor...</td>\n",
       "      <td>SH.HIV.KNOW.MA.ZS</td>\n",
       "      <td>0.0</td>\n",
       "      <td>0.0</td>\n",
       "      <td>0.0</td>\n",
       "      <td>0.0</td>\n",
       "      <td>0.0</td>\n",
       "      <td>0.0</td>\n",
       "      <td>0.0</td>\n",
       "      <td>...</td>\n",
       "      <td>0.0</td>\n",
       "      <td>0.0</td>\n",
       "      <td>0.0</td>\n",
       "      <td>0.0</td>\n",
       "      <td>0.0</td>\n",
       "      <td>0.0</td>\n",
       "      <td>0.0</td>\n",
       "      <td>0.0</td>\n",
       "      <td>0.0</td>\n",
       "      <td>0.0</td>\n",
       "    </tr>\n",
       "  </tbody>\n",
       "</table>\n",
       "<p>2 rows × 44 columns</p>\n",
       "</div>"
      ],
      "text/plain": [
       "     Country Name                                     Indicator Name  \\\n",
       "4830  High income  % of females ages 15-49 having comprehensive c...   \n",
       "4831  High income  % of males ages 15-49 having comprehensive cor...   \n",
       "\n",
       "         Indicator Code  1975  1976  1977  1978  1979  1980  1981  ...   2006  \\\n",
       "4830  SH.HIV.KNOW.FE.ZS   0.0   0.0   0.0   0.0   0.0   0.0   0.0  ...    0.0   \n",
       "4831  SH.HIV.KNOW.MA.ZS   0.0   0.0   0.0   0.0   0.0   0.0   0.0  ...    0.0   \n",
       "\n",
       "      2007  2008  2009  2010  2011  2012  2013  2014  2015  \n",
       "4830   0.0   0.0   0.0   0.0   0.0   0.0   0.0   0.0   0.0  \n",
       "4831   0.0   0.0   0.0   0.0   0.0   0.0   0.0   0.0   0.0  \n",
       "\n",
       "[2 rows x 44 columns]"
      ]
     },
     "execution_count": 20,
     "metadata": {},
     "output_type": "execute_result"
    }
   ],
   "source": [
    "# Make a separate set for the cross country income indicators\n",
    "income_categories = [co for co in countries_combos if 'income' in co]\n",
    "print(income_categories)\n",
    "\n",
    "income_indicators = []\n",
    "for id in income_categories:\n",
    "    # get the data subset\n",
    "    income_data = data_countries_indicators_years([id])\n",
    "    # get the indicators\n",
    "    new_indicators = get_countries_indicators(income_data)\n",
    "    # do a union of the chosen indicators so each income category can use the same set\n",
    "    income_indicators = list(set(income_indicators).union(new_indicators))\n",
    "    #print(len(income_indicators))\n",
    "\n",
    "print()\n",
    "print(\"income_categories has\", len(income_indicators), \"indicators with adequate data\")\n",
    "income_data = data_countries_indicators_years(income_categories)\n",
    "income_data.fillna(0, inplace=True)\n",
    "income_data.head(2)\n",
    "\n",
    "# write income_data to file\n",
    "#income_data.to_csv('./income_data.csv')"
   ]
  },
  {
   "cell_type": "markdown",
   "metadata": {},
   "source": [
    "### Test results for determining number of years and null_years_const values"
   ]
  },
  {
   "cell_type": "code",
   "execution_count": 21,
   "metadata": {
    "collapsed": true
   },
   "outputs": [],
   "source": [
    "# income_categories has 345 indicators with adequate data - for null_years_const = 100, years = 41"
   ]
  },
  {
   "cell_type": "markdown",
   "metadata": {},
   "source": [
    "### Remove the income categories from the country combinations"
   ]
  },
  {
   "cell_type": "code",
   "execution_count": 22,
   "metadata": {
    "collapsed": true
   },
   "outputs": [],
   "source": [
    "# As income_categories have been made into a separate set remove them from countries_combos\n",
    "for id in income_categories:\n",
    "    countries_combos.remove(id)"
   ]
  },
  {
   "cell_type": "markdown",
   "metadata": {},
   "source": [
    "### Process the  country combinations <a name='combos_indicators' />"
   ]
  },
  {
   "cell_type": "code",
   "execution_count": 23,
   "metadata": {
    "collapsed": false
   },
   "outputs": [
    {
     "name": "stdout",
     "output_type": "stream",
     "text": [
      "Country Combinations Kept: 16\n",
      "Arab World\n",
      "Caribbean small states\n",
      "Central Europe and the Baltics\n",
      "East Asia & Pacific\n",
      "Euro area\n",
      "Europe & Central Asia\n",
      "European Union\n",
      "Fragile and conflict affected situations\n",
      "Heavily indebted poor countries (HIPC)\n",
      "Latin America & Caribbean\n",
      "Least developed countries: UN classification\n",
      "Middle East & North Africa\n",
      "North America\n",
      "Pacific island small states\n",
      "South Asia\n",
      "Sub-Saharan Africa\n",
      "\n",
      "countries_combos has 345 indicators with adequate data\n"
     ]
    },
    {
     "data": {
      "text/html": [
       "<div>\n",
       "<table border=\"1\" class=\"dataframe\">\n",
       "  <thead>\n",
       "    <tr style=\"text-align: right;\">\n",
       "      <th></th>\n",
       "      <th>Country Name</th>\n",
       "      <th>Indicator Name</th>\n",
       "      <th>Indicator Code</th>\n",
       "      <th>1975</th>\n",
       "      <th>1976</th>\n",
       "      <th>1977</th>\n",
       "      <th>1978</th>\n",
       "      <th>1979</th>\n",
       "      <th>1980</th>\n",
       "      <th>1981</th>\n",
       "      <th>...</th>\n",
       "      <th>2006</th>\n",
       "      <th>2007</th>\n",
       "      <th>2008</th>\n",
       "      <th>2009</th>\n",
       "      <th>2010</th>\n",
       "      <th>2011</th>\n",
       "      <th>2012</th>\n",
       "      <th>2013</th>\n",
       "      <th>2014</th>\n",
       "      <th>2015</th>\n",
       "    </tr>\n",
       "  </thead>\n",
       "  <tbody>\n",
       "    <tr>\n",
       "      <th>0</th>\n",
       "      <td>Arab World</td>\n",
       "      <td>% of females ages 15-49 having comprehensive c...</td>\n",
       "      <td>SH.HIV.KNOW.FE.ZS</td>\n",
       "      <td>0.0</td>\n",
       "      <td>0.0</td>\n",
       "      <td>0.0</td>\n",
       "      <td>0.0</td>\n",
       "      <td>0.0</td>\n",
       "      <td>0.0</td>\n",
       "      <td>0.0</td>\n",
       "      <td>...</td>\n",
       "      <td>0.0</td>\n",
       "      <td>0.0</td>\n",
       "      <td>0.0</td>\n",
       "      <td>0.0</td>\n",
       "      <td>0.0</td>\n",
       "      <td>0.0</td>\n",
       "      <td>0.0</td>\n",
       "      <td>0.0</td>\n",
       "      <td>0.0</td>\n",
       "      <td>0.0</td>\n",
       "    </tr>\n",
       "    <tr>\n",
       "      <th>1</th>\n",
       "      <td>Arab World</td>\n",
       "      <td>% of males ages 15-49 having comprehensive cor...</td>\n",
       "      <td>SH.HIV.KNOW.MA.ZS</td>\n",
       "      <td>0.0</td>\n",
       "      <td>0.0</td>\n",
       "      <td>0.0</td>\n",
       "      <td>0.0</td>\n",
       "      <td>0.0</td>\n",
       "      <td>0.0</td>\n",
       "      <td>0.0</td>\n",
       "      <td>...</td>\n",
       "      <td>0.0</td>\n",
       "      <td>0.0</td>\n",
       "      <td>0.0</td>\n",
       "      <td>0.0</td>\n",
       "      <td>0.0</td>\n",
       "      <td>0.0</td>\n",
       "      <td>0.0</td>\n",
       "      <td>0.0</td>\n",
       "      <td>0.0</td>\n",
       "      <td>0.0</td>\n",
       "    </tr>\n",
       "  </tbody>\n",
       "</table>\n",
       "<p>2 rows × 44 columns</p>\n",
       "</div>"
      ],
      "text/plain": [
       "  Country Name                                     Indicator Name  \\\n",
       "0   Arab World  % of females ages 15-49 having comprehensive c...   \n",
       "1   Arab World  % of males ages 15-49 having comprehensive cor...   \n",
       "\n",
       "      Indicator Code  1975  1976  1977  1978  1979  1980  1981  ...   2006  \\\n",
       "0  SH.HIV.KNOW.FE.ZS   0.0   0.0   0.0   0.0   0.0   0.0   0.0  ...    0.0   \n",
       "1  SH.HIV.KNOW.MA.ZS   0.0   0.0   0.0   0.0   0.0   0.0   0.0  ...    0.0   \n",
       "\n",
       "   2007  2008  2009  2010  2011  2012  2013  2014  2015  \n",
       "0   0.0   0.0   0.0   0.0   0.0   0.0   0.0   0.0   0.0  \n",
       "1   0.0   0.0   0.0   0.0   0.0   0.0   0.0   0.0   0.0  \n",
       "\n",
       "[2 rows x 44 columns]"
      ]
     },
     "execution_count": 23,
     "metadata": {},
     "output_type": "execute_result"
    }
   ],
   "source": [
    "### Process the remaining country combination categories\n",
    "\n",
    "print(\"Country Combinations Kept:\", len(countries_combos))\n",
    "#print(countries_combos)\n",
    "\n",
    "combos_indicators = []\n",
    "for id in countries_combos:\n",
    "    print(id)\n",
    "    # get the data subset\n",
    "    combos_data = data_countries_indicators_years([id])\n",
    "    # get the indicators\n",
    "    new_indicators = get_countries_indicators(combos_data)\n",
    "    # do a union of the chosen indicators so each income category can use the same set\n",
    "    combos_indicators = list(set(combos_indicators).union(new_indicators))\n",
    "    #print(len(combos_indicators))\n",
    "\n",
    "print()\n",
    "print(\"countries_combos has\", len(combos_indicators), \"indicators with adequate data\")\n",
    "combos_data = data_countries_indicators_years(countries_combos)\n",
    "combos_data.fillna(0, inplace=True)\n",
    "combos_data.head(2)\n",
    "\n",
    "# write combos_data to file\n",
    "#combos_data.to_csv('./combos_data.csv')"
   ]
  },
  {
   "cell_type": "markdown",
   "metadata": {},
   "source": [
    "### Test results for determining number of years and null_years_const values"
   ]
  },
  {
   "cell_type": "code",
   "execution_count": 24,
   "metadata": {
    "collapsed": true
   },
   "outputs": [],
   "source": [
    "# countries_combos has 345 indicators with adequate data - for null_years_const = 20, years = 41"
   ]
  },
  {
   "cell_type": "markdown",
   "metadata": {},
   "source": [
    "### Process the single countries"
   ]
  },
  {
   "cell_type": "code",
   "execution_count": 25,
   "metadata": {
    "collapsed": false
   },
   "outputs": [
    {
     "name": "stdout",
     "output_type": "stream",
     "text": [
      "Single Countries: 217\n",
      "['Afghanistan' 'Albania' 'Algeria' 'American Samoa' 'Andorra' 'Angola'\n",
      " 'Antigua and Barbuda' 'Argentina' 'Armenia' 'Aruba' 'Australia' 'Austria'\n",
      " 'Azerbaijan' 'Bahamas, The' 'Bahrain' 'Bangladesh' 'Barbados' 'Belarus'\n",
      " 'Belgium' 'Belize' 'Benin' 'Bermuda' 'Bhutan' 'Bolivia'\n",
      " 'Bosnia and Herzegovina' 'Botswana' 'Brazil' 'British Virgin Islands'\n",
      " 'Brunei Darussalam' 'Bulgaria' 'Burkina Faso' 'Burundi' 'Cabo Verde'\n",
      " 'Cambodia' 'Cameroon' 'Canada' 'Cayman Islands' 'Central African Republic'\n",
      " 'Chad' 'Channel Islands' 'Chile' 'China' 'Colombia' 'Comoros'\n",
      " 'Congo, Dem. Rep.' 'Congo, Rep.' 'Costa Rica' \"Cote d'Ivoire\" 'Croatia'\n",
      " 'Cuba' 'Curacao' 'Cyprus' 'Czech Republic' 'Denmark' 'Djibouti' 'Dominica'\n",
      " 'Dominican Republic' 'Ecuador' 'Egypt, Arab Rep.' 'El Salvador'\n",
      " 'Equatorial Guinea' 'Eritrea' 'Estonia' 'Ethiopia' 'Faroe Islands' 'Fiji'\n",
      " 'Finland' 'France' 'French Polynesia' 'Gabon' 'Gambia, The' 'Georgia'\n",
      " 'Germany' 'Ghana' 'Gibraltar' 'Greece' 'Greenland' 'Grenada' 'Guam'\n",
      " 'Guatemala' 'Guinea' 'Guinea-Bissau' 'Guyana' 'Haiti' 'Honduras'\n",
      " 'Hong Kong SAR, China' 'Hungary' 'Iceland' 'India' 'Indonesia'\n",
      " 'Iran, Islamic Rep.' 'Iraq' 'Ireland' 'Isle of Man' 'Israel' 'Italy'\n",
      " 'Jamaica' 'Japan' 'Jordan' 'Kazakhstan' 'Kenya' 'Kiribati'\n",
      " 'Korea, Dem. People’s Rep.' 'Korea, Rep.' 'Kosovo' 'Kuwait'\n",
      " 'Kyrgyz Republic' 'Lao PDR' 'Latvia' 'Lebanon' 'Lesotho' 'Liberia' 'Libya'\n",
      " 'Liechtenstein' 'Lithuania' 'Luxembourg' 'Macao SAR, China'\n",
      " 'Macedonia, FYR' 'Madagascar' 'Malawi' 'Malaysia' 'Maldives' 'Mali'\n",
      " 'Malta' 'Marshall Islands' 'Mauritania' 'Mauritius' 'Mexico'\n",
      " 'Micronesia, Fed. Sts.' 'Moldova' 'Monaco' 'Mongolia' 'Montenegro'\n",
      " 'Morocco' 'Mozambique' 'Myanmar' 'Namibia' 'Nauru' 'Nepal' 'Netherlands'\n",
      " 'New Caledonia' 'New Zealand' 'Nicaragua' 'Niger' 'Nigeria'\n",
      " 'Northern Mariana Islands' 'Norway' 'Oman' 'Pakistan' 'Palau' 'Panama'\n",
      " 'Papua New Guinea' 'Paraguay' 'Peru' 'Philippines' 'Poland' 'Portugal'\n",
      " 'Puerto Rico' 'Qatar' 'Romania' 'Russian Federation' 'Rwanda' 'Samoa'\n",
      " 'San Marino' 'Sao Tome and Principe' 'Saudi Arabia' 'Senegal' 'Serbia'\n",
      " 'Seychelles' 'Sierra Leone' 'Singapore' 'Sint Maarten (Dutch part)'\n",
      " 'Slovak Republic' 'Slovenia' 'Solomon Islands' 'Somalia' 'South Africa'\n",
      " 'South Sudan' 'Spain' 'Sri Lanka' 'St. Kitts and Nevis' 'St. Lucia'\n",
      " 'St. Martin (French part)' 'St. Vincent and the Grenadines' 'Sudan'\n",
      " 'Suriname' 'Swaziland' 'Sweden' 'Switzerland' 'Syrian Arab Republic'\n",
      " 'Tajikistan' 'Tanzania' 'Thailand' 'Timor-Leste' 'Togo' 'Tonga'\n",
      " 'Trinidad and Tobago' 'Tunisia' 'Turkey' 'Turkmenistan'\n",
      " 'Turks and Caicos Islands' 'Tuvalu' 'Uganda' 'Ukraine'\n",
      " 'United Arab Emirates' 'United Kingdom' 'United States' 'Uruguay'\n",
      " 'Uzbekistan' 'Vanuatu' 'Venezuela, RB' 'Vietnam' 'Virgin Islands (U.S.)'\n",
      " 'West Bank and Gaza' 'Yemen, Rep.' 'Zambia' 'Zimbabwe']\n",
      "\n",
      "countries_single has 345 indicators with adequate data\n"
     ]
    },
    {
     "data": {
      "text/html": [
       "<div>\n",
       "<table border=\"1\" class=\"dataframe\">\n",
       "  <thead>\n",
       "    <tr style=\"text-align: right;\">\n",
       "      <th></th>\n",
       "      <th>Country Name</th>\n",
       "      <th>Indicator Name</th>\n",
       "      <th>Indicator Code</th>\n",
       "      <th>1975</th>\n",
       "      <th>1976</th>\n",
       "      <th>1977</th>\n",
       "      <th>1978</th>\n",
       "      <th>1979</th>\n",
       "      <th>1980</th>\n",
       "      <th>1981</th>\n",
       "      <th>...</th>\n",
       "      <th>2006</th>\n",
       "      <th>2007</th>\n",
       "      <th>2008</th>\n",
       "      <th>2009</th>\n",
       "      <th>2010</th>\n",
       "      <th>2011</th>\n",
       "      <th>2012</th>\n",
       "      <th>2013</th>\n",
       "      <th>2014</th>\n",
       "      <th>2015</th>\n",
       "    </tr>\n",
       "  </thead>\n",
       "  <tbody>\n",
       "    <tr>\n",
       "      <th>14145</th>\n",
       "      <td>Afghanistan</td>\n",
       "      <td>% of females ages 15-49 having comprehensive c...</td>\n",
       "      <td>SH.HIV.KNOW.FE.ZS</td>\n",
       "      <td>0.0</td>\n",
       "      <td>0.0</td>\n",
       "      <td>0.0</td>\n",
       "      <td>0.0</td>\n",
       "      <td>0.0</td>\n",
       "      <td>0.0</td>\n",
       "      <td>0.0</td>\n",
       "      <td>...</td>\n",
       "      <td>0.0</td>\n",
       "      <td>0.0</td>\n",
       "      <td>0.0</td>\n",
       "      <td>0.0</td>\n",
       "      <td>0.0</td>\n",
       "      <td>1.5</td>\n",
       "      <td>0.0</td>\n",
       "      <td>0.0</td>\n",
       "      <td>0.0</td>\n",
       "      <td>0.0</td>\n",
       "    </tr>\n",
       "    <tr>\n",
       "      <th>14146</th>\n",
       "      <td>Afghanistan</td>\n",
       "      <td>% of males ages 15-49 having comprehensive cor...</td>\n",
       "      <td>SH.HIV.KNOW.MA.ZS</td>\n",
       "      <td>0.0</td>\n",
       "      <td>0.0</td>\n",
       "      <td>0.0</td>\n",
       "      <td>0.0</td>\n",
       "      <td>0.0</td>\n",
       "      <td>0.0</td>\n",
       "      <td>0.0</td>\n",
       "      <td>...</td>\n",
       "      <td>0.0</td>\n",
       "      <td>0.0</td>\n",
       "      <td>0.0</td>\n",
       "      <td>0.0</td>\n",
       "      <td>0.0</td>\n",
       "      <td>0.0</td>\n",
       "      <td>0.0</td>\n",
       "      <td>0.0</td>\n",
       "      <td>0.0</td>\n",
       "      <td>0.0</td>\n",
       "    </tr>\n",
       "  </tbody>\n",
       "</table>\n",
       "<p>2 rows × 44 columns</p>\n",
       "</div>"
      ],
      "text/plain": [
       "      Country Name                                     Indicator Name  \\\n",
       "14145  Afghanistan  % of females ages 15-49 having comprehensive c...   \n",
       "14146  Afghanistan  % of males ages 15-49 having comprehensive cor...   \n",
       "\n",
       "          Indicator Code  1975  1976  1977  1978  1979  1980  1981  ...   \\\n",
       "14145  SH.HIV.KNOW.FE.ZS   0.0   0.0   0.0   0.0   0.0   0.0   0.0  ...    \n",
       "14146  SH.HIV.KNOW.MA.ZS   0.0   0.0   0.0   0.0   0.0   0.0   0.0  ...    \n",
       "\n",
       "       2006  2007  2008  2009  2010  2011  2012  2013  2014  2015  \n",
       "14145   0.0   0.0   0.0   0.0   0.0   1.5   0.0   0.0   0.0   0.0  \n",
       "14146   0.0   0.0   0.0   0.0   0.0   0.0   0.0   0.0   0.0   0.0  \n",
       "\n",
       "[2 rows x 44 columns]"
      ]
     },
     "execution_count": 25,
     "metadata": {},
     "output_type": "execute_result"
    }
   ],
   "source": [
    "countries_single = countries[41:]\n",
    "print(\"Single Countries:\", len(countries_single))\n",
    "print(countries_single)\n",
    "\n",
    "single_indicators = []\n",
    "for id in countries_single:\n",
    "    #print(id)\n",
    "    # get the data subset\n",
    "    single_data = data_countries_indicators_years([id])\n",
    "    # get the indicators\n",
    "    new_indicators = get_countries_indicators(single_data)\n",
    "    # do a union of the chosen indicators so each income category can use the same set\n",
    "    single_indicators = list(set(single_indicators).union(new_indicators))\n",
    "    #print(len(single_indicators))\n",
    "\n",
    "print()\n",
    "print(\"countries_single has\", len(single_indicators), \"indicators with adequate data\")\n",
    "single_data = data_countries_indicators_years(countries_single)\n",
    "single_data.fillna(0, inplace=True)\n",
    "single_data.head(2)\n",
    "\n",
    "# write single_data to file\n",
    "#single_data.to_csv('./single_data.csv')"
   ]
  },
  {
   "cell_type": "markdown",
   "metadata": {},
   "source": [
    "### Test results for determining number of years and null_years_const values"
   ]
  },
  {
   "cell_type": "code",
   "execution_count": 26,
   "metadata": {
    "collapsed": true
   },
   "outputs": [],
   "source": [
    "# countries_single has 345 indicators with adequate data - for null_years_const = 20, years = 41"
   ]
  },
  {
   "cell_type": "code",
   "execution_count": 27,
   "metadata": {
    "collapsed": false
   },
   "outputs": [
    {
     "name": "stdout",
     "output_type": "stream",
     "text": [
      "set() can be added to income_indicators\n",
      "\n",
      "There are set() indicators to add to single_indicators\n"
     ]
    }
   ],
   "source": [
    "print(set(combos_indicators) - set(income_indicators), \"can be added to income_indicators\")\n",
    "# add the extra indicator to income_indicators\n",
    "income_indicators = combos_indicators\n",
    "\n",
    "print()\n",
    "combined_indicators = list(set().union(income_indicators, combos_indicators, single_indicators))\n",
    "print(\"There are\", set(combined_indicators) - set(single_indicators), \"indicators to add to single_indicators\")"
   ]
  },
  {
   "cell_type": "code",
   "execution_count": 28,
   "metadata": {
    "collapsed": false
   },
   "outputs": [
    {
     "data": {
      "text/html": [
       "<div>\n",
       "<table border=\"1\" class=\"dataframe\">\n",
       "  <thead>\n",
       "    <tr style=\"text-align: right;\">\n",
       "      <th></th>\n",
       "      <th>name</th>\n",
       "      <th>indicator</th>\n",
       "    </tr>\n",
       "  </thead>\n",
       "  <tbody>\n",
       "    <tr>\n",
       "      <th>0</th>\n",
       "      <td>income</td>\n",
       "      <td>age population, age 16, female, interpolated</td>\n",
       "    </tr>\n",
       "    <tr>\n",
       "      <th>1</th>\n",
       "      <td>income</td>\n",
       "      <td>age population, age 10, female, interpolated</td>\n",
       "    </tr>\n",
       "    <tr>\n",
       "      <th>2</th>\n",
       "      <td>income</td>\n",
       "      <td>primary completion rate, total (% of relevant ...</td>\n",
       "    </tr>\n",
       "  </tbody>\n",
       "</table>\n",
       "</div>"
      ],
      "text/plain": [
       "     name                                          indicator\n",
       "0  income       age population, age 16, female, interpolated\n",
       "1  income       age population, age 10, female, interpolated\n",
       "2  income  primary completion rate, total (% of relevant ..."
      ]
     },
     "execution_count": 28,
     "metadata": {},
     "output_type": "execute_result"
    }
   ],
   "source": [
    "len(single_indicators)\n",
    "indicators_df = pd.DataFrame(columns=['name', 'indicator'])\n",
    "for ind in income_indicators:\n",
    "    indicators_df.loc[indicators_df.shape[0]] = ['income', ind]\n",
    "for ind in combos_indicators:\n",
    "    indicators_df.loc[indicators_df.shape[0]] = ['combos', ind]\n",
    "for ind in single_indicators:\n",
    "    indicators_df.loc[indicators_df.shape[0]] = ['single', ind]\n",
    "indicators_df.head(3)"
   ]
  },
  {
   "cell_type": "markdown",
   "metadata": {},
   "source": [
    "## <span style='color:#7D6115'>Write data to SQL database</span>\n",
    "Write all essential data to a SQL database so that it can be imported by other code."
   ]
  },
  {
   "cell_type": "code",
   "execution_count": 29,
   "metadata": {
    "collapsed": false
   },
   "outputs": [
    {
     "name": "stderr",
     "output_type": "stream",
     "text": [
      "C:\\Users\\trade\\Anaconda3\\lib\\site-packages\\pandas\\core\\generic.py:1201: UserWarning: The spaces in these column names will not be changed. In pandas versions < 0.14, spaces were converted to underscores.\n",
      "  chunksize=chunksize, dtype=dtype)\n"
     ]
    },
    {
     "data": {
      "text/html": [
       "<div>\n",
       "<table border=\"1\" class=\"dataframe\">\n",
       "  <thead>\n",
       "    <tr style=\"text-align: right;\">\n",
       "      <th></th>\n",
       "      <th>Country Name</th>\n",
       "      <th>Country Code</th>\n",
       "      <th>Indicator Name</th>\n",
       "      <th>Indicator Code</th>\n",
       "      <th>1975</th>\n",
       "      <th>1976</th>\n",
       "      <th>1977</th>\n",
       "      <th>1978</th>\n",
       "      <th>1979</th>\n",
       "      <th>1980</th>\n",
       "      <th>...</th>\n",
       "      <th>2006</th>\n",
       "      <th>2007</th>\n",
       "      <th>2008</th>\n",
       "      <th>2009</th>\n",
       "      <th>2010</th>\n",
       "      <th>2011</th>\n",
       "      <th>2012</th>\n",
       "      <th>2013</th>\n",
       "      <th>2014</th>\n",
       "      <th>2015</th>\n",
       "    </tr>\n",
       "  </thead>\n",
       "  <tbody>\n",
       "    <tr>\n",
       "      <th>0</th>\n",
       "      <td>Afghanistan</td>\n",
       "      <td>AFG</td>\n",
       "      <td>% of females ages 15-49 having comprehensive c...</td>\n",
       "      <td>SH.HIV.KNOW.FE.ZS</td>\n",
       "      <td>None</td>\n",
       "      <td>None</td>\n",
       "      <td>None</td>\n",
       "      <td>None</td>\n",
       "      <td>None</td>\n",
       "      <td>None</td>\n",
       "      <td>...</td>\n",
       "      <td>None</td>\n",
       "      <td>None</td>\n",
       "      <td>None</td>\n",
       "      <td>None</td>\n",
       "      <td>None</td>\n",
       "      <td>1.5</td>\n",
       "      <td>None</td>\n",
       "      <td>None</td>\n",
       "      <td>None</td>\n",
       "      <td>None</td>\n",
       "    </tr>\n",
       "  </tbody>\n",
       "</table>\n",
       "<p>1 rows × 45 columns</p>\n",
       "</div>"
      ],
      "text/plain": [
       "  Country Name Country Code  \\\n",
       "0  Afghanistan          AFG   \n",
       "\n",
       "                                      Indicator Name     Indicator Code  1975  \\\n",
       "0  % of females ages 15-49 having comprehensive c...  SH.HIV.KNOW.FE.ZS  None   \n",
       "\n",
       "   1976  1977  1978  1979  1980  ...   2006  2007  2008  2009  2010 2011  \\\n",
       "0  None  None  None  None  None  ...   None  None  None  None  None  1.5   \n",
       "\n",
       "   2012  2013  2014  2015  \n",
       "0  None  None  None  None  \n",
       "\n",
       "[1 rows x 45 columns]"
      ]
     },
     "execution_count": 29,
     "metadata": {},
     "output_type": "execute_result"
    }
   ],
   "source": [
    "# Import Sqlite3 Library\n",
    "import sqlite3\n",
    "#The SQL Sub-library from Pandas will allow us to run SQL queries within python.\n",
    "from pandas.io import sql\n",
    "\n",
    "# Establishing the Connection to our Database.  If no database exists here, this will create one.\n",
    "connection = sqlite3.connect('../input/data.db.sqlite')\n",
    "\n",
    "# Converts a DataFrame into a SQL database\n",
    "data.to_sql(name='world_health', con=connection, if_exists='replace', index=False)\n",
    "\n",
    "world_data.to_sql(name='world_health_world', con=connection, if_exists='replace', index=False)\n",
    "income_data.to_sql(name='world_health_income', con=connection, if_exists='replace', index=False)\n",
    "combos_data.to_sql(name='world_health_combos', con=connection, if_exists='replace', index=False)\n",
    "single_data.to_sql(name='world_health_single', con=connection, if_exists='replace', index=False)\n",
    "\n",
    "indicators_df.to_sql(name='world_health_indicators', con=connection, if_exists='replace', index=False)\n",
    "\n",
    "# define function to use when querying the sql database\n",
    "def Q(query, db=connection):\n",
    "    return sql.read_sql(query, db)\n",
    "\n",
    "Q('select * from world_health limit 14145, 1')"
   ]
  },
  {
   "cell_type": "code",
   "execution_count": 30,
   "metadata": {
    "collapsed": false
   },
   "outputs": [],
   "source": [
    "connection.close()"
   ]
  },
  {
   "cell_type": "markdown",
   "metadata": {},
   "source": [
    "## <span style='color:#7D6115'>End SQL database code</span>"
   ]
  },
  {
   "cell_type": "code",
   "execution_count": null,
   "metadata": {
    "collapsed": true
   },
   "outputs": [],
   "source": []
  },
  {
   "cell_type": "markdown",
   "metadata": {},
   "source": [
    "## <span style='color:#7D6115'>Initial capstone analysis</span>\n",
    "This analysis was submitted for part 2 of the capstone project.\n",
    "### Look at all the indicators"
   ]
  },
  {
   "cell_type": "code",
   "execution_count": 31,
   "metadata": {
    "collapsed": false
   },
   "outputs": [
    {
     "name": "stdout",
     "output_type": "stream",
     "text": [
      "Number of indicators: 345\n",
      "age population, age 10, female, interpolated\n",
      "age population, age 16, female, interpolated\n",
      "primary completion rate, total (% of relevant age group)\n",
      "age population, age 12, male, interpolated\n",
      "age population, age 15, male, interpolated\n",
      "population ages 80 and older, male (% of male population)\n",
      "share of women employed in the nonagricultural sector (% of total nonagricultural employment)\n",
      "school enrollment, secondary, female (% gross)\n",
      "population ages 65 and above, male\n",
      "condom use, population ages 15-24, male (% of males ages 15-24)\n",
      "demand for family planning satisfied by any methods (% of married women with demand for family planning)\n",
      "school enrollment, primary, female (% net)\n",
      "population ages 00-14, male (% of total)\n",
      "age population, age 07, female, interpolated\n",
      "school enrollment, primary, female (% gross)\n",
      "school enrollment, primary (% gross)\n",
      "age population, age 17, female, interpolated\n",
      "age population, age 06, male, interpolated\n",
      "literacy rate, youth male (% of males ages 15-24)\n",
      "age dependency ratio, old\n",
      "vitamin a supplementation coverage rate (% of children ages 6-59 months)\n",
      "male population 70-74\n",
      "newborns protected against tetanus (%)\n",
      "children orphaned by hiv/aids\n",
      "mortality rate, infant, male (per 1,000 live births)\n",
      "cause of death, by communicable diseases and maternal, prenatal and nutrition conditions (% of total)\n",
      "health expenditure per capita (current us$)\n",
      "number of surgical procedures (per 100,000 population)\n",
      "improved sanitation facilities (% of population with access)\n",
      "condom use, population ages 15-24, female (% of females ages 15-24)\n",
      "population, male (% of total)\n",
      "completeness of birth registration, urban (%)\n",
      "demand for family planning satisfied by modern methods (% of married women with demand for family planning)\n",
      "population ages 55-59, male (% of male population)\n",
      "prevalence of hiv, male (% ages 15-24)\n",
      "adolescent fertility rate (births per 1,000 women ages 15-19)\n",
      "immunization, dpt (% of children ages 12-23 months)\n",
      "immunization, hepb3 (% of one-year-old children)\n",
      "population ages 00-14, total\n",
      "female population 75-79\n",
      "male population 25-29\n",
      "children (ages 0-14) newly infected with hiv\n",
      "mortality rate, under-5 (per 1,000)\n",
      "female population 65-69\n",
      "prevalence of overweight (% of adults)\n",
      "age population, age 03, male, interpolated\n",
      "female population 60-64\n",
      "age population, age 03, female, interpolated\n",
      "net migration\n",
      "labor force, total\n",
      "unemployment, female (% of female labor force)\n",
      "population ages 15-64, male\n",
      "immunization, pol3 (% of one-year-old children)\n",
      "antiretroviral therapy coverage (% of people living with hiv)\n",
      "malnutrition prevalence, weight for age, male (% of children under 5)\n",
      "urban population (% of total)\n",
      "male population 00-04\n",
      "population ages 20-24, female (% of female population)\n",
      "population, female\n",
      "population ages 75-79, male (% of male population)\n",
      "malaria cases reported\n",
      "population ages 00-14, female (% of total)\n",
      "birth rate, crude (per 1,000 people)\n",
      "malnutrition prevalence, weight for age (% of children under 5)\n",
      "population ages 45-49, female (% of female population)\n",
      "people practicing open defecation, rural (% of rural population)\n",
      "improved water source, urban (% of urban population with access)\n",
      "malnutrition prevalence, weight for age, female (% of children under 5)\n",
      "population ages 15-64, female (% of total)\n",
      "tuberculosis treatment success rate (% of new cases)\n",
      "number of maternal deaths\n",
      "male population 45-49\n",
      "age population, age 21, female, interpolated\n",
      "age population, age 01, female, interpolated\n",
      "ari treatment (% of children under 5 taken to a health provider)\n",
      "births attended by skilled health staff (% of total)\n",
      "female population 20-24\n",
      "age population, age 11, female, interpolated\n",
      "school enrollment, primary (% net)\n",
      "female headed households (% of households with a female head)\n",
      "population ages 15-64, total\n",
      "prevalence of overweight, male (% of children under 5)\n",
      "unmet need for contraception (% of married women ages 15-49)\n",
      "female population 40-44\n",
      "health expenditure, private (% of gdp)\n",
      "population ages 0-14, female\n",
      "cause of death, by injury (% of total)\n",
      "age population, age 22, female, interpolated\n",
      "male population 15-19\n",
      "% of males ages 15-49 having comprehensive correct knowledge about hiv (2 prevent ways and reject 3 misconceptions)\n",
      "malnutrition prevalence, height for age (% of children under 5)\n",
      "prevalence of wasting, male (% of children under 5)\n",
      "population ages 25-29, female (% of female population)\n",
      "age population, age 15, female, interpolated\n",
      "antiretroviral therapy coverage for pmtct (% of pregnant women living with hiv)\n",
      "incidence of tuberculosis (per 100,000 people)\n",
      "prevalence of wasting (% of children under 5)\n",
      "population ages 60-64, female (% of female population)\n",
      "teenage mothers (% of women ages 15-19 who have had children or are currently pregnant)\n",
      "prevalence of wasting, female (% of children under 5)\n",
      "prevalence of undernourishment (% of population)\n",
      "age population, age 12, female, interpolated\n",
      "health expenditure, total (current us$)\n",
      "infant and young child feeding practices, all 3 iycf (% children ages 6-23 months)\n",
      "age population, age 01, male, interpolated\n",
      "female population 50-54\n",
      "primary completion rate, male (% of relevant age group)\n",
      "community health workers (per 1,000 people)\n",
      "risk of impoverishing expenditure for surgical care (% of people at risk)\n",
      "population, female (% of total)\n",
      "population ages 00-04, male (% of male population)\n",
      "age population, age 06, female, interpolated\n",
      "number of weeks of maternity leave\n",
      "age population, age 11, male, interpolated\n",
      "age population, age 04, male, interpolated\n",
      "age population, age 0, female, interpolated\n",
      "population ages 60-64, male (% of male population)\n",
      "maternal mortality ratio (modeled estimate, per 100,000 live births)\n",
      "age population, age 04, female, interpolated\n",
      "lifetime risk of maternal death (1 in: rate varies by country)\n",
      "wanted fertility rate (births per woman)\n",
      "prevalence of anemia among pregnant women (%)\n",
      "gni per capita, atlas method (current us$)\n",
      "prevalence of hiv, female (% ages 15-24)\n",
      "adults (ages 15+) newly infected with hiv\n",
      "population ages 65 and above, male (% of total)\n",
      "population ages 75-79, female (% of female population)\n",
      "malnutrition prevalence, height for age, male (% of children under 5)\n",
      "school enrollment, secondary, female (% net)\n",
      "age population, age 19, female, interpolated\n",
      "age at first marriage, male\n",
      "school enrollment, secondary, male (% net)\n",
      "comprehensive correct knowledge of hiv/aids, ages 15-24, male (2 prevent ways and reject 3 misconceptions)\n",
      "hospital beds (per 1,000 people)\n",
      "consumption of iodized salt (% of households)\n",
      "male population 30-34\n",
      "population ages 00-04, female (% of female population)\n",
      "school enrollment, primary, male (% net)\n",
      "population, male\n",
      "unemployment, total (% of total labor force)\n",
      "immunization, bcg (% of one-year-old children)\n",
      "smoking prevalence, males (% of adults)\n",
      "age population, age 21, male, interpolated\n",
      "population ages 65-69, male (% of male population)\n",
      "population ages 30-34, female (% of female population)\n",
      "age population, age 02, male, interpolated\n",
      "population ages 70-74, male (% of male population)\n",
      "male population 35-39\n",
      "% of females ages 15-49 having comprehensive correct knowledge about hiv (2 prevent ways and reject 3 misconceptions)\n",
      "school enrollment, tertiary (% gross)\n",
      "maternal mortality ratio (national estimate, per 100,000 live births)\n",
      "female population 70-74\n",
      "school enrollment, tertiary, female (% gross)\n",
      "male population 50-54\n",
      "population ages 10-14, female (% of female population)\n",
      "death rate, crude (per 1,000 people)\n",
      "male population 75-79\n",
      "use of any antimalarial drug (% of pregnant women)\n",
      "age dependency ratio (% of working-age population)\n",
      "completeness of birth registration, rural (%)\n",
      "prevalence of syphilis (% of women attending antenatal care)\n",
      "smoking prevalence, females (% of adults)\n",
      "male population 40-44\n",
      "prevalence of tuberculosis (per 100,000 population)\n",
      "life expectancy at birth, male (years)\n",
      "population ages 45-49, male (% of male population)\n",
      "population, total\n",
      "age population, age 07, male, interpolated\n",
      "mortality rate, infant (per 1,000 live births)\n",
      "rural population (% of total population)\n",
      "population ages 05-09, female (% of female population)\n",
      "rural poverty headcount ratio at national poverty lines (% of rural population)\n",
      "population ages 40-44, female (% of female population)\n",
      "children (0-14) living with hiv\n",
      "population ages 00-14 (% of total)\n",
      "improved water source, rural (% of rural population with access)\n",
      "lifetime risk of maternal death (%)\n",
      "prevalence of overweight, male (% of male adults)\n",
      "age population, age 18, male, interpolated\n",
      "population ages 05-09, male (% of male population)\n",
      "health expenditure, private (% of total health expenditure)\n",
      "immunization, hib3 (% of children ages 12-23 months)\n",
      "school enrollment, primary, male (% gross)\n",
      "low-birthweight babies (% of births)\n",
      "risk of catastrophic expenditure for surgical care (% of people at risk)\n",
      "age population, age 20, female, interpolated\n",
      "population ages 15-19, female (% of female population)\n",
      "age population, age 24, female, interpolated\n",
      "pregnant women receiving prenatal care of at least four visits (% of pregnant women)\n",
      "exclusive breastfeeding (% of children under 6 months)\n",
      "use of intermittent preventive treatment of malaria, 2+ doses of sp/fansidar (% of pregnant women)\n",
      "population ages 65 and above, female\n",
      "health expenditure, public (% of total health expenditure)\n",
      "diarrhea treatment (% of children under 5 who received ors packet)\n",
      "health expenditure, total (% of gdp)\n",
      "age population, age 08, female, interpolated\n",
      "survival to age 65, male (% of cohort)\n",
      "rural population\n",
      "improved sanitation facilities, rural (% of rural population with access)\n",
      "children with fever receiving antimalarial drugs (% of children under age 5 with fever)\n",
      "age population, age 23, male, interpolated\n",
      "male population 10-14\n",
      "mortality rate, infant, female (per 1,000 live births)\n",
      "cause of death, by non-communicable diseases (% of total)\n",
      "age population, age 19, male, interpolated\n",
      "population ages 15-64, male (% of total)\n",
      "postnatal care coverage (% mothers)\n",
      "ratio of school attendance of orphans to school attendance of non-orphans ages 10-14\n",
      "age population, age 25, male, interpolated\n",
      "tuberculosis death rate (per 100,000 people)\n",
      "population ages 15-19, male (% of male population)\n",
      "tuberculosis case detection rate (all forms)\n",
      "adults (ages 15+) living with hiv\n",
      "people practicing open defecation, urban (% of urban population)\n",
      "condom use with non regular partner, % adults(15-49), female\n",
      "male population 80+\n",
      "age at first marriage, female\n",
      "age population, age 0, male, interpolated\n",
      "population ages 35-39, female (% of female population)\n",
      "urban population\n",
      "life expectancy at birth, female (years)\n",
      "physicians (per 1,000 people)\n",
      "urban poverty headcount ratio at national poverty lines (% of urban population)\n",
      "age population, age 13, male, interpolated\n",
      "age dependency ratio, young\n",
      "age population, age 16, male, interpolated\n",
      "primary completion rate, female (% of relevant age group)\n",
      "age population, age 17, male, interpolated\n",
      "population ages 30-34, male (% of male population)\n",
      "age population, age 14, female, interpolated\n",
      "out-of-pocket health expenditure (% of total expenditure on health)\n",
      "specialist surgical workforce (per 100,000 population)\n",
      "age population, age 10, male, interpolated\n",
      "population ages 15-64 (% of total)\n",
      "number of infant deaths\n",
      "population ages 65-69, female (% of female population)\n",
      "adults (ages 15+) and children (0-14 years) living with hiv\n",
      "population ages 25-29, male (% of male population)\n",
      "maternal leave benefits (% of wages paid in covered period)\n",
      "mortality rate, adult, male (per 1,000 male adults)\n",
      "prevalence of overweight, female (% of children under 5)\n",
      "age population, age 05, female, interpolated\n",
      "population ages 50-54, female (% of female population)\n",
      "prevalence of anemia among women of reproductive age (% of women ages 15-49)\n",
      "malnutrition prevalence, height for age, female (% of children under 5)\n",
      "nurses and midwives (per 1,000 people)\n",
      "rural population growth (annual %)\n",
      "population ages 15-64, female\n",
      "survival to age 65, female (% of cohort)\n",
      "age population, age 02, female, interpolated\n",
      "completeness of death registration with cause-of-death information (%)\n",
      "age population, age 09, female, interpolated\n",
      "population ages 65 and above, total\n",
      "age population, age 05, male, interpolated\n",
      "improved water source (% of population with access)\n",
      "female population 30-34\n",
      "female population 80+\n",
      "diabetes prevalence (% of population ages 20 to 79)\n",
      "immunization, measles (% of children ages 12-23 months)\n",
      "age population, age 23, female, interpolated\n",
      "population ages 70-74, female (% of female population)\n",
      "prevalence of anemia among non-pregnant women (% of women ages 15-49)\n",
      "population ages 35-39, male (% of male population)\n",
      "school enrollment, secondary, male (% gross)\n",
      "adults (ages 15+) and children (ages 0-14) newly infected with hiv\n",
      "female population 45-49\n",
      "public spending on education, total (% of gdp)\n",
      "age population, age 22, male, interpolated\n",
      "mortality rate, neonatal (per 1,000 live births)\n",
      "literacy rate, youth total (% of people ages 15-24)\n",
      "mortality rate, under-5, female (per 1,000)\n",
      "male population 60-64\n",
      "male population 65-69\n",
      "population ages 65 and above, female (% of total)\n",
      "age population, age 18, female, interpolated\n",
      "age population, age 24, male, interpolated\n",
      "fertility rate, total (births per woman)\n",
      "urban population growth (annual %)\n",
      "unemployment, male (% of male labor force)\n",
      "school enrollment, secondary (% net)\n",
      "female population 35-39\n",
      "number of people who are undernourished\n",
      "use of insecticide-treated bed nets (% of under-5 population)\n",
      "labor force, female (% of total labor force)\n",
      "population ages 0-14, male\n",
      "literacy rate, adult total (% of people ages 15 and above)\n",
      "sex ratio at birth (male births per female births)\n",
      "population ages10-14, male (% of male population)\n",
      "male population 20-24\n",
      "literacy rate, adult female (% of females ages 15 and above)\n",
      "incidence of hiv (% of uninfected population ages 15-49)\n",
      "age population, age 25, female, interpolated\n",
      "contraceptive prevalence, any methods (% of women ages 15-49)\n",
      "age population, age 20, male, interpolated\n",
      "improved sanitation facilities, urban (% of urban population with access)\n",
      "mortality caused by road traffic injury (per 100,000 people)\n",
      "population ages 65 and above (% of total)\n",
      "health expenditure per capita, ppp\n",
      "population ages 55-59, female (% of female population)\n",
      "age population, age 13, female, interpolated\n",
      "condom use with non regular partner, % adults(15-49), male\n",
      "population ages 80 and older, female (% of female population)\n",
      "health expenditure, public (% of government expenditure)\n",
      "prevalence of severe wasting, weight for height (% of children under 5)\n",
      "prevalence of severe wasting, weight for height, male (% of children under 5)\n",
      "life expectancy at birth, total (years)\n",
      "ratio of young literate females to males (% ages 15-24)\n",
      "completeness of birth registration (%)\n",
      "people practicing open defecation (% of population)\n",
      "diarrhea treatment (% of children under 5 receiving oral rehydration and continued feeding)\n",
      "population growth (annual %)\n",
      "prevalence of hiv, total (% of population ages 15-49)\n",
      "population ages 20-24, male (% of male population)\n",
      "health expenditure, public (% of gdp)\n",
      "contraceptive prevalence, modern methods (% of women ages 15-49)\n",
      "external resources for health (% of total expenditure on health)\n",
      "mortality rate, adult, female (per 1,000 female adults)\n",
      "women's share of population ages 15+ living with hiv (%)\n",
      "female population 05-09\n",
      "aids estimated deaths (unaids estimates)\n",
      "mortality rate, under-5, male (per 1,000)\n",
      "male population 55-59\n",
      "number of neonatal deaths\n",
      "population ages 40-44, male (% of male population)\n",
      "female population 55-59\n",
      "comprehensive correct knowledge of hiv/aids, ages 15-24, female (2 prevent ways and reject 3 misconceptions)\n",
      "female population 10-14\n",
      "literacy rate, adult male (% of males ages 15 and above)\n",
      "prevalence of anemia among children (% of children under 5)\n",
      "age population, age 09, male, interpolated\n",
      "female population 00-04\n",
      "age population, age 14, male, interpolated\n",
      "school enrollment, secondary (% gross)\n",
      "out-of-pocket health expenditure (% of private expenditure on health)\n",
      "population ages 50-54, male (% of male population)\n",
      "male population 05-09\n",
      "age population, age 08, male, interpolated\n",
      "prevalence of severe wasting, weight for height, female (% of children under 5)\n",
      "prevalence of overweight, female (% of female adults)\n",
      "female population 15-19\n",
      "pregnant women receiving prenatal care (%)\n",
      "poverty headcount ratio at national poverty line (% of population)\n",
      "number of under-five deaths\n",
      "prevalence of overweight (% of children under 5)\n",
      "female population 25-29\n"
     ]
    }
   ],
   "source": [
    "#Original number of indicators: 345\n",
    "#indicators = data['Indicator Name'].unique()\n",
    "indicators = combined_indicators\n",
    "print(\"Number of indicators:\", len(indicators))\n",
    "for ind in indicators:\n",
    "    print(ind)"
   ]
  },
  {
   "cell_type": "code",
   "execution_count": 32,
   "metadata": {
    "collapsed": false
   },
   "outputs": [],
   "source": [
    "# Function that has 2 parameters, a list of indicators and a string to search for in those indicators.\n",
    "# After the indicators matching 'identity' have been found remove them from indicators and return the results,\n",
    "# this will make sure the same indicator is not included in a subsequent list.\n",
    "def population_group(indicators, identity):\n",
    "    identity = identity.lower()\n",
    "    population = [ind for ind in indicators if identity in ind]\n",
    "    print(\"Related to\", identity, len(population))\n",
    "    #indicators = set(indicators) - set(population) # fails on the same values as setdiff1d\n",
    "    indicators = np.setdiff1d(indicators, population)\n",
    "    return population, indicators"
   ]
  },
  {
   "cell_type": "code",
   "execution_count": 33,
   "metadata": {
    "collapsed": false
   },
   "outputs": [],
   "source": [
    "#combined_indicators"
   ]
  },
  {
   "cell_type": "markdown",
   "metadata": {},
   "source": [
    "### Attempt to group indicators into related categories"
   ]
  },
  {
   "cell_type": "code",
   "execution_count": 34,
   "metadata": {
    "collapsed": false
   },
   "outputs": [
    {
     "name": "stdout",
     "output_type": "stream",
     "text": [
      "Related to life expectancy 3\n",
      "Related to diabetes 1\n",
      "Related to undernourished 1\n",
      "Related to hiv 18\n",
      "Related to aids estimated deaths 1\n",
      "Related to age population 53\n",
      "Related to population ages 54\n",
      "Related to female population 17\n",
      "Related to male population 17\n",
      "Related to health expenditure 11\n",
      "Related to mortality rate 9\n",
      "Related to survival to age 65 2\n",
      "Related to school enrollment 14\n",
      "Related to primary completion rate 3\n",
      "Related to malnutrition 6\n",
      "Related to overweight 6\n",
      "Related to immunization 6\n",
      "Related to sanitation 3\n",
      "Related to wasting 6\n",
      "Related to birth 12\n",
      "Related to death 12\n",
      "Related to condom 2\n",
      "Related to water 3\n",
      "Related to population 23\n",
      "Related to anemia 4\n",
      "Related to contraceptive 2\n",
      "Related to smoking 2\n",
      "Related to diarrhea 2\n",
      "Related to unemployment 3\n",
      "Related to maternal 1\n",
      "Related to marriage 2\n",
      "Related to tuberculosis 3\n"
     ]
    }
   ],
   "source": [
    "# Categorise indicators into groups\n",
    "life_expectancy, indicators = population_group(indicators, 'Life expectancy')\n",
    "diabetes, indicators = population_group(indicators, 'diabetes')\n",
    "undernourished, indicators = population_group(indicators, 'undernourished')\n",
    "hiv, indicators = population_group(indicators, 'HIV')\n",
    "aids, indicators = population_group(indicators, 'aids estimated deaths')\n",
    "age_population, indicators = population_group(indicators, 'Age population')\n",
    "population_ages, indicators = population_group(indicators, 'Population ages')\n",
    "female_population, indicators = population_group(indicators, 'Female population')\n",
    "male_population, indicators = population_group(indicators, 'Male population')\n",
    "health_expenditure, indicators = population_group(indicators, 'Health expenditure')\n",
    "mortality_rate, indicators = population_group(indicators, 'Mortality rate')\n",
    "survival_65, indicators = population_group(indicators, 'survival to age 65')\n",
    "school_enrollment, indicators = population_group(indicators, 'School enrollment')\n",
    "\n",
    "# some indicators with this 'identity' still show up down near the bottom as being unclassified\n",
    "# could be a bug with the function setdiff1d, might only be Windows that's affected?\n",
    "primary_completion_rate = population_group(indicators, 'Primary completion rate')\n",
    "\n",
    "malnutrition, indicators = population_group(indicators, 'Malnutrition')\n",
    "overweight, indicators = population_group(indicators, 'overweight')\n",
    "immunization, indicators = population_group(indicators, 'Immunization')\n",
    "sanitation, indicators = population_group(indicators, 'sanitation')\n",
    "wasting, indicators = population_group(indicators, 'wasting')\n",
    "birth, indicators = population_group(indicators, 'birth')\n",
    "death, indicators = population_group(indicators, 'death')\n",
    "condom, indicators = population_group(indicators, 'Condom')\n",
    "water, indicators = population_group(indicators, 'water')\n",
    "population, indicators = population_group(indicators, 'Population')\n",
    "anemia, indicators = population_group(indicators, 'anemia')\n",
    "contraceptive, indicators = population_group(indicators, 'Contraceptive')\n",
    "smoking, indicators = population_group(indicators, 'Smoking')\n",
    "diarrhea, indicators = population_group(indicators, 'Diarrhea')\n",
    "unemployment, indicators = population_group(indicators, 'Unemployment')\n",
    "maternal, indicators = population_group(indicators, 'Maternal')\n",
    "marriage, indicators = population_group(indicators, 'marriage')\n",
    "tuberculosis, indicators = population_group(indicators, 'Tuberculosis')"
   ]
  },
  {
   "cell_type": "markdown",
   "metadata": {},
   "source": [
    "### Set y target and X predictors\n",
    "The target feature selected is 'life expectancy at birth, total (years)'. Predictor features related to health issues have been selected to test for correlation. The 'World' data will be used for this."
   ]
  },
  {
   "cell_type": "code",
   "execution_count": 35,
   "metadata": {
    "collapsed": false
   },
   "outputs": [
    {
     "name": "stdout",
     "output_type": "stream",
     "text": [
      "y.shape: (1, 41)\n",
      "test_data.shape: (61, 44)\n",
      "test_data.shape after transpose (41, 61)\n"
     ]
    }
   ],
   "source": [
    "# Target y\n",
    "y_indicator = 'life expectancy at birth, total (years)'\n",
    "y = data_countries_indicators_years(['World'], [y_indicator])[year_columns]\n",
    "print(\"y.shape:\", y.shape)\n",
    "\n",
    "# Predictors X\n",
    "X_indicators = undernourished + hiv + health_expenditure + malnutrition + \\\n",
    "overweight + immunization + sanitation + water + anemia + unemployment\n",
    "\n",
    "test_data = data_countries_indicators_years(['World'], X_indicators)#[year_columns]\n",
    "print(\"test_data.shape:\", test_data.shape)\n",
    "\n",
    "column_names = [list(test_data['Indicator Name'])]\n",
    "test_data.drop(['Country Name'], axis=1, inplace=True)\n",
    "test_data.drop(['Indicator Name'], axis=1, inplace=True)\n",
    "test_data.drop(['Indicator Code'], axis=1, inplace=True)\n",
    "\n",
    "# invert the dataframe so that the predictors and y are columns\n",
    "test_data = test_data.T\n",
    "\n",
    "# rename the columns\n",
    "test_data.columns = column_names\n",
    "print('test_data.shape after transpose', test_data.shape)"
   ]
  },
  {
   "cell_type": "markdown",
   "metadata": {},
   "source": [
    "### Many missing values time to examine some distributions\n",
    "There are no values at all for years 1975 to 1989 so these rows will be dropped."
   ]
  },
  {
   "cell_type": "code",
   "execution_count": 36,
   "metadata": {
    "collapsed": false
   },
   "outputs": [
    {
     "data": {
      "text/html": [
       "<div>\n",
       "<table border=\"1\" class=\"dataframe\">\n",
       "  <thead>\n",
       "    <tr style=\"text-align: right;\">\n",
       "      <th></th>\n",
       "      <th>% of females ages 15-49 having comprehensive correct knowledge about hiv (2 prevent ways and reject 3 misconceptions)</th>\n",
       "      <th>% of males ages 15-49 having comprehensive correct knowledge about hiv (2 prevent ways and reject 3 misconceptions)</th>\n",
       "      <th>adults (ages 15+) and children (0-14 years) living with hiv</th>\n",
       "      <th>adults (ages 15+) and children (ages 0-14) newly infected with hiv</th>\n",
       "      <th>adults (ages 15+) living with hiv</th>\n",
       "      <th>adults (ages 15+) newly infected with hiv</th>\n",
       "      <th>antiretroviral therapy coverage (% of people living with hiv)</th>\n",
       "      <th>antiretroviral therapy coverage for pmtct (% of pregnant women living with hiv)</th>\n",
       "      <th>children (0-14) living with hiv</th>\n",
       "      <th>children (ages 0-14) newly infected with hiv</th>\n",
       "      <th>...</th>\n",
       "      <th>prevalence of overweight (% of adults)</th>\n",
       "      <th>prevalence of overweight (% of children under 5)</th>\n",
       "      <th>prevalence of overweight, female (% of children under 5)</th>\n",
       "      <th>prevalence of overweight, female (% of female adults)</th>\n",
       "      <th>prevalence of overweight, male (% of children under 5)</th>\n",
       "      <th>prevalence of overweight, male (% of male adults)</th>\n",
       "      <th>unemployment, female (% of female labor force)</th>\n",
       "      <th>unemployment, male (% of male labor force)</th>\n",
       "      <th>unemployment, total (% of total labor force)</th>\n",
       "      <th>women's share of population ages 15+ living with hiv (%)</th>\n",
       "    </tr>\n",
       "  </thead>\n",
       "  <tbody>\n",
       "    <tr>\n",
       "      <th>1990</th>\n",
       "      <td>NaN</td>\n",
       "      <td>NaN</td>\n",
       "      <td>9100000.0</td>\n",
       "      <td>2000000.0</td>\n",
       "      <td>8700000.0</td>\n",
       "      <td>1800000.0</td>\n",
       "      <td>NaN</td>\n",
       "      <td>NaN</td>\n",
       "      <td>400000.0</td>\n",
       "      <td>190000.0</td>\n",
       "      <td>...</td>\n",
       "      <td>NaN</td>\n",
       "      <td>4.846598</td>\n",
       "      <td>NaN</td>\n",
       "      <td>NaN</td>\n",
       "      <td>NaN</td>\n",
       "      <td>NaN</td>\n",
       "      <td>NaN</td>\n",
       "      <td>NaN</td>\n",
       "      <td>NaN</td>\n",
       "      <td>45.090596</td>\n",
       "    </tr>\n",
       "    <tr>\n",
       "      <th>1991</th>\n",
       "      <td>NaN</td>\n",
       "      <td>NaN</td>\n",
       "      <td>10900000.0</td>\n",
       "      <td>2300000.0</td>\n",
       "      <td>10400000.0</td>\n",
       "      <td>2100000.0</td>\n",
       "      <td>NaN</td>\n",
       "      <td>NaN</td>\n",
       "      <td>490000.0</td>\n",
       "      <td>220000.0</td>\n",
       "      <td>...</td>\n",
       "      <td>NaN</td>\n",
       "      <td>NaN</td>\n",
       "      <td>NaN</td>\n",
       "      <td>NaN</td>\n",
       "      <td>NaN</td>\n",
       "      <td>NaN</td>\n",
       "      <td>6.711817</td>\n",
       "      <td>6.010209</td>\n",
       "      <td>6.299013</td>\n",
       "      <td>45.770025</td>\n",
       "    </tr>\n",
       "    <tr>\n",
       "      <th>1992</th>\n",
       "      <td>NaN</td>\n",
       "      <td>NaN</td>\n",
       "      <td>12900000.0</td>\n",
       "      <td>2600000.0</td>\n",
       "      <td>12300000.0</td>\n",
       "      <td>2400000.0</td>\n",
       "      <td>NaN</td>\n",
       "      <td>NaN</td>\n",
       "      <td>600000.0</td>\n",
       "      <td>260000.0</td>\n",
       "      <td>...</td>\n",
       "      <td>NaN</td>\n",
       "      <td>NaN</td>\n",
       "      <td>NaN</td>\n",
       "      <td>NaN</td>\n",
       "      <td>NaN</td>\n",
       "      <td>NaN</td>\n",
       "      <td>6.204265</td>\n",
       "      <td>5.702540</td>\n",
       "      <td>5.888352</td>\n",
       "      <td>46.442748</td>\n",
       "    </tr>\n",
       "  </tbody>\n",
       "</table>\n",
       "<p>3 rows × 61 columns</p>\n",
       "</div>"
      ],
      "text/plain": [
       "      % of females ages 15-49 having comprehensive correct knowledge about hiv (2 prevent ways and reject 3 misconceptions)  \\\n",
       "1990                                                NaN                                                                       \n",
       "1991                                                NaN                                                                       \n",
       "1992                                                NaN                                                                       \n",
       "\n",
       "      % of males ages 15-49 having comprehensive correct knowledge about hiv (2 prevent ways and reject 3 misconceptions)  \\\n",
       "1990                                                NaN                                                                     \n",
       "1991                                                NaN                                                                     \n",
       "1992                                                NaN                                                                     \n",
       "\n",
       "      adults (ages 15+) and children (0-14 years) living with hiv  \\\n",
       "1990                                          9100000.0             \n",
       "1991                                         10900000.0             \n",
       "1992                                         12900000.0             \n",
       "\n",
       "      adults (ages 15+) and children (ages 0-14) newly infected with hiv  \\\n",
       "1990                                          2000000.0                    \n",
       "1991                                          2300000.0                    \n",
       "1992                                          2600000.0                    \n",
       "\n",
       "      adults (ages 15+) living with hiv  \\\n",
       "1990                          8700000.0   \n",
       "1991                         10400000.0   \n",
       "1992                         12300000.0   \n",
       "\n",
       "      adults (ages 15+) newly infected with hiv  \\\n",
       "1990                                  1800000.0   \n",
       "1991                                  2100000.0   \n",
       "1992                                  2400000.0   \n",
       "\n",
       "      antiretroviral therapy coverage (% of people living with hiv)  \\\n",
       "1990                                                NaN               \n",
       "1991                                                NaN               \n",
       "1992                                                NaN               \n",
       "\n",
       "      antiretroviral therapy coverage for pmtct (% of pregnant women living with hiv)  \\\n",
       "1990                                                NaN                                 \n",
       "1991                                                NaN                                 \n",
       "1992                                                NaN                                 \n",
       "\n",
       "      children (0-14) living with hiv  \\\n",
       "1990                         400000.0   \n",
       "1991                         490000.0   \n",
       "1992                         600000.0   \n",
       "\n",
       "      children (ages 0-14) newly infected with hiv  \\\n",
       "1990                                      190000.0   \n",
       "1991                                      220000.0   \n",
       "1992                                      260000.0   \n",
       "\n",
       "                                ...                             \\\n",
       "1990                            ...                              \n",
       "1991                            ...                              \n",
       "1992                            ...                              \n",
       "\n",
       "      prevalence of overweight (% of adults)  \\\n",
       "1990                                     NaN   \n",
       "1991                                     NaN   \n",
       "1992                                     NaN   \n",
       "\n",
       "      prevalence of overweight (% of children under 5)  \\\n",
       "1990                                          4.846598   \n",
       "1991                                               NaN   \n",
       "1992                                               NaN   \n",
       "\n",
       "      prevalence of overweight, female (% of children under 5)  \\\n",
       "1990                                                NaN          \n",
       "1991                                                NaN          \n",
       "1992                                                NaN          \n",
       "\n",
       "      prevalence of overweight, female (% of female adults)  \\\n",
       "1990                                                NaN       \n",
       "1991                                                NaN       \n",
       "1992                                                NaN       \n",
       "\n",
       "      prevalence of overweight, male (% of children under 5)  \\\n",
       "1990                                                NaN        \n",
       "1991                                                NaN        \n",
       "1992                                                NaN        \n",
       "\n",
       "      prevalence of overweight, male (% of male adults)  \\\n",
       "1990                                                NaN   \n",
       "1991                                                NaN   \n",
       "1992                                                NaN   \n",
       "\n",
       "      unemployment, female (% of female labor force)  \\\n",
       "1990                                             NaN   \n",
       "1991                                        6.711817   \n",
       "1992                                        6.204265   \n",
       "\n",
       "      unemployment, male (% of male labor force)  \\\n",
       "1990                                         NaN   \n",
       "1991                                    6.010209   \n",
       "1992                                    5.702540   \n",
       "\n",
       "      unemployment, total (% of total labor force)  \\\n",
       "1990                                           NaN   \n",
       "1991                                      6.299013   \n",
       "1992                                      5.888352   \n",
       "\n",
       "      women's share of population ages 15+ living with hiv (%)  \n",
       "1990                                          45.090596         \n",
       "1991                                          45.770025         \n",
       "1992                                          46.442748         \n",
       "\n",
       "[3 rows x 61 columns]"
      ]
     },
     "execution_count": 36,
     "metadata": {},
     "output_type": "execute_result"
    }
   ],
   "source": [
    "test_data = test_data.drop(test_data.index[[0,1,2,3,4,5,6,7,8,9,10,11,12,13,14]])\n",
    "test_data.head(3)"
   ]
  },
  {
   "cell_type": "markdown",
   "metadata": {},
   "source": [
    "### Check columns for nulls"
   ]
  },
  {
   "cell_type": "code",
   "execution_count": 37,
   "metadata": {
    "collapsed": false
   },
   "outputs": [
    {
     "data": {
      "text/plain": [
       "% of females ages 15-49 having comprehensive correct knowledge about hiv (2 prevent ways and reject 3 misconceptions)    26\n",
       "% of males ages 15-49 having comprehensive correct knowledge about hiv (2 prevent ways and reject 3 misconceptions)      26\n",
       "adults (ages 15+) and children (0-14 years) living with hiv                                                               0\n",
       "adults (ages 15+) and children (ages 0-14) newly infected with hiv                                                        0\n",
       "adults (ages 15+) living with hiv                                                                                         0\n",
       "adults (ages 15+) newly infected with hiv                                                                                 0\n",
       "antiretroviral therapy coverage (% of people living with hiv)                                                            10\n",
       "antiretroviral therapy coverage for pmtct (% of pregnant women living with hiv)                                          20\n",
       "children (0-14) living with hiv                                                                                           0\n",
       "children (ages 0-14) newly infected with hiv                                                                              0\n",
       "children orphaned by hiv/aids                                                                                             0\n",
       "comprehensive correct knowledge of hiv/aids, ages 15-24, female (2 prevent ways and reject 3 misconceptions)             26\n",
       "comprehensive correct knowledge of hiv/aids, ages 15-24, male (2 prevent ways and reject 3 misconceptions)               26\n",
       "health expenditure per capita (current us$)                                                                               6\n",
       "health expenditure per capita, ppp                                                                                        6\n",
       "health expenditure, private (% of gdp)                                                                                    6\n",
       "health expenditure, private (% of total health expenditure)                                                               6\n",
       "health expenditure, public (% of gdp)                                                                                     6\n",
       "health expenditure, public (% of government expenditure)                                                                 24\n",
       "health expenditure, public (% of total health expenditure)                                                                6\n",
       "health expenditure, total (% of gdp)                                                                                      6\n",
       "health expenditure, total (current us$)                                                                                  26\n",
       "immunization, bcg (% of one-year-old children)                                                                            0\n",
       "immunization, dpt (% of children ages 12-23 months)                                                                       0\n",
       "immunization, hepb3 (% of one-year-old children)                                                                         13\n",
       "immunization, hib3 (% of children ages 12-23 months)                                                                     23\n",
       "immunization, measles (% of children ages 12-23 months)                                                                   0\n",
       "immunization, pol3 (% of one-year-old children)                                                                           0\n",
       "improved sanitation facilities (% of population with access)                                                              0\n",
       "improved sanitation facilities, rural (% of rural population with access)                                                 0\n",
       "                                                                                                                         ..\n",
       "improved water source (% of population with access)                                                                       0\n",
       "improved water source, rural (% of rural population with access)                                                          0\n",
       "improved water source, urban (% of urban population with access)                                                          0\n",
       "incidence of hiv (% of uninfected population ages 15-49)                                                                  0\n",
       "malnutrition prevalence, height for age (% of children under 5)                                                          20\n",
       "malnutrition prevalence, height for age, female (% of children under 5)                                                  26\n",
       "malnutrition prevalence, height for age, male (% of children under 5)                                                    26\n",
       "malnutrition prevalence, weight for age (% of children under 5)                                                          20\n",
       "malnutrition prevalence, weight for age, female (% of children under 5)                                                  26\n",
       "malnutrition prevalence, weight for age, male (% of children under 5)                                                    26\n",
       "number of people who are undernourished                                                                                   1\n",
       "out-of-pocket health expenditure (% of private expenditure on health)                                                     6\n",
       "out-of-pocket health expenditure (% of total expenditure on health)                                                       6\n",
       "prevalence of anemia among children (% of children under 5)                                                               4\n",
       "prevalence of anemia among non-pregnant women (% of women ages 15-49)                                                     9\n",
       "prevalence of anemia among pregnant women (%)                                                                             9\n",
       "prevalence of anemia among women of reproductive age (% of women ages 15-49)                                              9\n",
       "prevalence of hiv, female (% ages 15-24)                                                                                  0\n",
       "prevalence of hiv, male (% ages 15-24)                                                                                    0\n",
       "prevalence of hiv, total (% of population ages 15-49)                                                                     0\n",
       "prevalence of overweight (% of adults)                                                                                   26\n",
       "prevalence of overweight (% of children under 5)                                                                         20\n",
       "prevalence of overweight, female (% of children under 5)                                                                 26\n",
       "prevalence of overweight, female (% of female adults)                                                                    26\n",
       "prevalence of overweight, male (% of children under 5)                                                                   26\n",
       "prevalence of overweight, male (% of male adults)                                                                        26\n",
       "unemployment, female (% of female labor force)                                                                            2\n",
       "unemployment, male (% of male labor force)                                                                                2\n",
       "unemployment, total (% of total labor force)                                                                              2\n",
       "women's share of population ages 15+ living with hiv (%)                                                                  0\n",
       "dtype: int64"
      ]
     },
     "execution_count": 37,
     "metadata": {},
     "output_type": "execute_result"
    }
   ],
   "source": [
    "test_data.isnull().sum()"
   ]
  },
  {
   "cell_type": "markdown",
   "metadata": {},
   "source": [
    "### Remove columns with 20 or more nulls"
   ]
  },
  {
   "cell_type": "code",
   "execution_count": 38,
   "metadata": {
    "collapsed": false
   },
   "outputs": [
    {
     "name": "stdout",
     "output_type": "stream",
     "text": [
      "Columns with more than 20 nulls\n",
      "% of females ages 15-49 having comprehensive correct knowledge about hiv (2 prevent ways and reject 3 misconceptions) 26\n",
      "% of males ages 15-49 having comprehensive correct knowledge about hiv (2 prevent ways and reject 3 misconceptions) 26\n",
      "comprehensive correct knowledge of hiv/aids, ages 15-24, female (2 prevent ways and reject 3 misconceptions) 26\n",
      "comprehensive correct knowledge of hiv/aids, ages 15-24, male (2 prevent ways and reject 3 misconceptions) 26\n",
      "health expenditure, public (% of government expenditure) 24\n",
      "health expenditure, total (current us$) 26\n",
      "immunization, hib3 (% of children ages 12-23 months) 23\n",
      "malnutrition prevalence, height for age, female (% of children under 5) 26\n",
      "malnutrition prevalence, height for age, male (% of children under 5) 26\n",
      "malnutrition prevalence, weight for age, female (% of children under 5) 26\n",
      "malnutrition prevalence, weight for age, male (% of children under 5) 26\n",
      "prevalence of overweight (% of adults) 26\n",
      "prevalence of overweight, female (% of children under 5) 26\n",
      "prevalence of overweight, female (% of female adults) 26\n",
      "prevalence of overweight, male (% of children under 5) 26\n",
      "prevalence of overweight, male (% of male adults) 26\n",
      "\n",
      "original shape (26, 61)\n",
      "changed shape (26, 45)\n"
     ]
    }
   ],
   "source": [
    "print(\"Columns with more than 20 nulls\")\n",
    "cols_to_drop = []\n",
    "for col in test_data.columns:\n",
    "    num_nulls = test_data[col].isnull().sum()\n",
    "    if num_nulls > 20:\n",
    "        print(col, num_nulls)\n",
    "        cols_to_drop.append(col)\n",
    "\n",
    "print()\n",
    "print('original shape', test_data.shape)\n",
    "for col in cols_to_drop:\n",
    "    test_data.drop([col], axis=1, inplace=True)\n",
    "print('changed shape', test_data.shape)"
   ]
  },
  {
   "cell_type": "markdown",
   "metadata": {},
   "source": [
    "### Plot the distributions for the columns that remain"
   ]
  },
  {
   "cell_type": "code",
   "execution_count": 39,
   "metadata": {
    "collapsed": false
   },
   "outputs": [
    {
     "name": "stdout",
     "output_type": "stream",
     "text": [
      "adults (ages 15+) and children (0-14 years) living with hiv\n"
     ]
    },
    {
     "data": {
      "image/png": "[encoded data removed]",
      "text/plain": [
       "<matplotlib.figure.Figure at 0x1ce8148fb38>"
      ]
     },
     "metadata": {},
     "output_type": "display_data"
    },
    {
     "name": "stdout",
     "output_type": "stream",
     "text": [
      "adults (ages 15+) and children (ages 0-14) newly infected with hiv\n"
     ]
    },
    {
     "data": {
      "image/png": "[encoded data removed]",
      "text/plain": [
       "<matplotlib.figure.Figure at 0x1ce81776128>"
      ]
     },
     "metadata": {},
     "output_type": "display_data"
    },
    {
     "name": "stdout",
     "output_type": "stream",
     "text": [
      "adults (ages 15+) living with hiv\n"
     ]
    },
    {
     "data": {
      "image/png": "[encoded data removed]",
      "text/plain": [
       "<matplotlib.figure.Figure at 0x1ce8183afd0>"
      ]
     },
     "metadata": {},
     "output_type": "display_data"
    },
    {
     "name": "stdout",
     "output_type": "stream",
     "text": [
      "adults (ages 15+) newly infected with hiv\n"
     ]
    },
    {
     "data": {
      "image/png": "[encoded data removed]",
      "text/plain": [
       "<matplotlib.figure.Figure at 0x1ce819454a8>"
      ]
     },
     "metadata": {},
     "output_type": "display_data"
    },
    {
     "name": "stdout",
     "output_type": "stream",
     "text": [
      "antiretroviral therapy coverage (% of people living with hiv)\n"
     ]
    },
    {
     "data": {
      "image/png": "[encoded data removed]",
      "text/plain": [
       "<matplotlib.figure.Figure at 0x1ce8185da90>"
      ]
     },
     "metadata": {},
     "output_type": "display_data"
    },
    {
     "name": "stdout",
     "output_type": "stream",
     "text": [
      "antiretroviral therapy coverage for pmtct (% of pregnant women living with hiv)\n"
     ]
    },
    {
     "data": {
      "image/png": "[encoded data removed]",
      "text/plain": [
       "<matplotlib.figure.Figure at 0x1ce81932f98>"
      ]
     },
     "metadata": {},
     "output_type": "display_data"
    },
    {
     "name": "stdout",
     "output_type": "stream",
     "text": [
      "children (0-14) living with hiv\n"
     ]
    },
    {
     "data": {
      "image/png": "[encoded data removed]",
      "text/plain": [
       "<matplotlib.figure.Figure at 0x1ce81be0710>"
      ]
     },
     "metadata": {},
     "output_type": "display_data"
    },
    {
     "name": "stdout",
     "output_type": "stream",
     "text": [
      "children (ages 0-14) newly infected with hiv\n"
     ]
    },
    {
     "data": {
      "image/png": "[encoded data removed]",
      "text/plain": [
       "<matplotlib.figure.Figure at 0x1ce81c8df28>"
      ]
     },
     "metadata": {},
     "output_type": "display_data"
    },
    {
     "name": "stdout",
     "output_type": "stream",
     "text": [
      "children orphaned by hiv/aids\n"
     ]
    },
    {
     "data": {
      "image/png": "[encoded data removed]",
      "text/plain": [
       "<matplotlib.figure.Figure at 0x1ce81d61518>"
      ]
     },
     "metadata": {},
     "output_type": "display_data"
    },
    {
     "name": "stdout",
     "output_type": "stream",
     "text": [
      "health expenditure per capita (current us$)\n"
     ]
    },
    {
     "data": {
      "image/png": "[encoded data removed]",
      "text/plain": [
       "<matplotlib.figure.Figure at 0x1ce81e1c668>"
      ]
     },
     "metadata": {},
     "output_type": "display_data"
    },
    {
     "name": "stdout",
     "output_type": "stream",
     "text": [
      "health expenditure per capita, ppp\n"
     ]
    },
    {
     "data": {
      "image/png": "[encoded data removed]",
      "text/plain": [
       "<matplotlib.figure.Figure at 0x1ce81d20630>"
      ]
     },
     "metadata": {},
     "output_type": "display_data"
    },
    {
     "name": "stdout",
     "output_type": "stream",
     "text": [
      "health expenditure, private (% of gdp)\n"
     ]
    },
    {
     "data": {
      "image/png": "[encoded data removed]",
      "text/plain": [
       "<matplotlib.figure.Figure at 0x1ce81a04a58>"
      ]
     },
     "metadata": {},
     "output_type": "display_data"
    },
    {
     "name": "stdout",
     "output_type": "stream",
     "text": [
      "health expenditure, private (% of total health expenditure)\n"
     ]
    },
    {
     "data": {
      "image/png": "[encoded data removed]",
      "text/plain": [
       "<matplotlib.figure.Figure at 0x1ce81dbac18>"
      ]
     },
     "metadata": {},
     "output_type": "display_data"
    },
    {
     "name": "stdout",
     "output_type": "stream",
     "text": [
      "health expenditure, public (% of gdp)\n"
     ]
    },
    {
     "data": {
      "image/png": "[encoded data removed]",
      "text/plain": [
       "<matplotlib.figure.Figure at 0x1ce81c8ada0>"
      ]
     },
     "metadata": {},
     "output_type": "display_data"
    },
    {
     "name": "stdout",
     "output_type": "stream",
     "text": [
      "health expenditure, public (% of total health expenditure)\n"
     ]
    },
    {
     "data": {
      "image/png": "[encoded data removed]",
      "text/plain": [
       "<matplotlib.figure.Figure at 0x1ce81888c88>"
      ]
     },
     "metadata": {},
     "output_type": "display_data"
    },
    {
     "name": "stdout",
     "output_type": "stream",
     "text": [
      "health expenditure, total (% of gdp)\n"
     ]
    },
    {
     "data": {
      "image/png": "[encoded data removed]",
      "text/plain": [
       "<matplotlib.figure.Figure at 0x1ce8181b8d0>"
      ]
     },
     "metadata": {},
     "output_type": "display_data"
    },
    {
     "name": "stdout",
     "output_type": "stream",
     "text": [
      "immunization, bcg (% of one-year-old children)\n"
     ]
    },
    {
     "data": {
      "image/png": "[encoded data removed]",
      "text/plain": [
       "<matplotlib.figure.Figure at 0x1ce8191cd30>"
      ]
     },
     "metadata": {},
     "output_type": "display_data"
    },
    {
     "name": "stdout",
     "output_type": "stream",
     "text": [
      "immunization, dpt (% of children ages 12-23 months)\n"
     ]
    },
    {
     "data": {
      "image/png": "[encoded data removed]",
      "text/plain": [
       "<matplotlib.figure.Figure at 0x1ce8197c908>"
      ]
     },
     "metadata": {},
     "output_type": "display_data"
    },
    {
     "name": "stdout",
     "output_type": "stream",
     "text": [
      "immunization, hepb3 (% of one-year-old children)\n"
     ]
    },
    {
     "data": {
      "image/png": "[encoded data removed]",
      "text/plain": [
       "<matplotlib.figure.Figure at 0x1ce81ed1a20>"
      ]
     },
     "metadata": {},
     "output_type": "display_data"
    },
    {
     "name": "stdout",
     "output_type": "stream",
     "text": [
      "immunization, measles (% of children ages 12-23 months)\n"
     ]
    },
    {
     "data": {
      "image/png": "[encoded data removed]",
      "text/plain": [
       "<matplotlib.figure.Figure at 0x1ce81b76780>"
      ]
     },
     "metadata": {},
     "output_type": "display_data"
    },
    {
     "name": "stdout",
     "output_type": "stream",
     "text": [
      "immunization, pol3 (% of one-year-old children)\n"
     ]
    },
    {
     "data": {
      "image/png": "[encoded data removed]",
      "text/plain": [
       "<matplotlib.figure.Figure at 0x1ce81792390>"
      ]
     },
     "metadata": {},
     "output_type": "display_data"
    },
    {
     "name": "stdout",
     "output_type": "stream",
     "text": [
      "improved sanitation facilities (% of population with access)\n"
     ]
    },
    {
     "data": {
      "image/png": "[encoded data removed]",
      "text/plain": [
       "<matplotlib.figure.Figure at 0x1ce819232b0>"
      ]
     },
     "metadata": {},
     "output_type": "display_data"
    },
    {
     "name": "stdout",
     "output_type": "stream",
     "text": [
      "improved sanitation facilities, rural (% of rural population with access)\n"
     ]
    },
    {
     "data": {
      "image/png": "[encoded data removed]",
      "text/plain": [
       "<matplotlib.figure.Figure at 0x1ce81ef3ac8>"
      ]
     },
     "metadata": {},
     "output_type": "display_data"
    },
    {
     "name": "stdout",
     "output_type": "stream",
     "text": [
      "improved sanitation facilities, urban (% of urban population with access)\n"
     ]
    },
    {
     "data": {
      "image/png": "[encoded data removed]",
      "text/plain": [
       "<matplotlib.figure.Figure at 0x1ce81856208>"
      ]
     },
     "metadata": {},
     "output_type": "display_data"
    },
    {
     "name": "stdout",
     "output_type": "stream",
     "text": [
      "improved water source (% of population with access)\n"
     ]
    },
    {
     "data": {
      "image/png": "[encoded data removed]",
      "text/plain": [
       "<matplotlib.figure.Figure at 0x1ce81a1b860>"
      ]
     },
     "metadata": {},
     "output_type": "display_data"
    },
    {
     "name": "stdout",
     "output_type": "stream",
     "text": [
      "improved water source, rural (% of rural population with access)\n"
     ]
    },
    {
     "data": {
      "image/png": "[encoded data removed]",
      "text/plain": [
       "<matplotlib.figure.Figure at 0x1ce81845c18>"
      ]
     },
     "metadata": {},
     "output_type": "display_data"
    },
    {
     "name": "stdout",
     "output_type": "stream",
     "text": [
      "improved water source, urban (% of urban population with access)\n"
     ]
    },
    {
     "data": {
      "image/png": "[encoded data removed]",
      "text/plain": [
       "<matplotlib.figure.Figure at 0x1ce81aaaeb8>"
      ]
     },
     "metadata": {},
     "output_type": "display_data"
    },
    {
     "name": "stdout",
     "output_type": "stream",
     "text": [
      "incidence of hiv (% of uninfected population ages 15-49)\n"
     ]
    },
    {
     "data": {
      "image/png": "[encoded data removed]",
      "text/plain": [
       "<matplotlib.figure.Figure at 0x1ce817d1e80>"
      ]
     },
     "metadata": {},
     "output_type": "display_data"
    },
    {
     "name": "stdout",
     "output_type": "stream",
     "text": [
      "malnutrition prevalence, height for age (% of children under 5)\n"
     ]
    },
    {
     "data": {
      "image/png": "[encoded data removed]",
      "text/plain": [
       "<matplotlib.figure.Figure at 0x1ce81647c50>"
      ]
     },
     "metadata": {},
     "output_type": "display_data"
    },
    {
     "name": "stdout",
     "output_type": "stream",
     "text": [
      "malnutrition prevalence, weight for age (% of children under 5)\n"
     ]
    },
    {
     "data": {
      "image/png": "[encoded data removed]",
      "text/plain": [
       "<matplotlib.figure.Figure at 0x1ce81efe320>"
      ]
     },
     "metadata": {},
     "output_type": "display_data"
    },
    {
     "name": "stdout",
     "output_type": "stream",
     "text": [
      "number of people who are undernourished\n"
     ]
    },
    {
     "data": {
      "image/png": "[encoded data removed]",
      "text/plain": [
       "<matplotlib.figure.Figure at 0x1ce818c2860>"
      ]
     },
     "metadata": {},
     "output_type": "display_data"
    },
    {
     "name": "stdout",
     "output_type": "stream",
     "text": [
      "out-of-pocket health expenditure (% of private expenditure on health)\n"
     ]
    },
    {
     "data": {
      "image/png": "[encoded data removed]",
      "text/plain": [
       "<matplotlib.figure.Figure at 0x1ce81ab8a90>"
      ]
     },
     "metadata": {},
     "output_type": "display_data"
    },
    {
     "name": "stdout",
     "output_type": "stream",
     "text": [
      "out-of-pocket health expenditure (% of total expenditure on health)\n"
     ]
    },
    {
     "data": {
      "image/png": "[encoded data removed]",
      "text/plain": [
       "<matplotlib.figure.Figure at 0x1ce81e457f0>"
      ]
     },
     "metadata": {},
     "output_type": "display_data"
    },
    {
     "name": "stdout",
     "output_type": "stream",
     "text": [
      "prevalence of anemia among children (% of children under 5)\n"
     ]
    },
    {
     "data": {
      "image/png": "[encoded data removed]",
      "text/plain": [
       "<matplotlib.figure.Figure at 0x1ce81dca1d0>"
      ]
     },
     "metadata": {},
     "output_type": "display_data"
    },
    {
     "name": "stdout",
     "output_type": "stream",
     "text": [
      "prevalence of anemia among non-pregnant women (% of women ages 15-49)\n"
     ]
    },
    {
     "data": {
      "image/png": "[encoded data removed]",
      "text/plain": [
       "<matplotlib.figure.Figure at 0x1ce81cfc320>"
      ]
     },
     "metadata": {},
     "output_type": "display_data"
    },
    {
     "name": "stdout",
     "output_type": "stream",
     "text": [
      "prevalence of anemia among pregnant women (%)\n"
     ]
    },
    {
     "data": {
      "image/png": "[encoded data removed]",
      "text/plain": [
       "<matplotlib.figure.Figure at 0x1ce82040898>"
      ]
     },
     "metadata": {},
     "output_type": "display_data"
    },
    {
     "name": "stdout",
     "output_type": "stream",
     "text": [
      "prevalence of anemia among women of reproductive age (% of women ages 15-49)\n"
     ]
    },
    {
     "data": {
      "image/png": "[encoded data removed]",
      "text/plain": [
       "<matplotlib.figure.Figure at 0x1ce81e82a20>"
      ]
     },
     "metadata": {},
     "output_type": "display_data"
    },
    {
     "name": "stdout",
     "output_type": "stream",
     "text": [
      "prevalence of hiv, female (% ages 15-24)\n"
     ]
    },
    {
     "data": {
      "image/png": "[encoded data removed]",
      "text/plain": [
       "<matplotlib.figure.Figure at 0x1ce81c48b70>"
      ]
     },
     "metadata": {},
     "output_type": "display_data"
    },
    {
     "name": "stdout",
     "output_type": "stream",
     "text": [
      "prevalence of hiv, male (% ages 15-24)\n"
     ]
    },
    {
     "data": {
      "image/png": "[encoded data removed]",
      "text/plain": [
       "<matplotlib.figure.Figure at 0x1ce81c22f60>"
      ]
     },
     "metadata": {},
     "output_type": "display_data"
    },
    {
     "name": "stdout",
     "output_type": "stream",
     "text": [
      "prevalence of hiv, total (% of population ages 15-49)\n"
     ]
    },
    {
     "data": {
      "image/png": "[encoded data removed]",
      "text/plain": [
       "<matplotlib.figure.Figure at 0x1ce81c4d8d0>"
      ]
     },
     "metadata": {},
     "output_type": "display_data"
    },
    {
     "name": "stdout",
     "output_type": "stream",
     "text": [
      "prevalence of overweight (% of children under 5)\n"
     ]
    },
    {
     "data": {
      "image/png": "[encoded data removed]",
      "text/plain": [
       "<matplotlib.figure.Figure at 0x1ce81e3add8>"
      ]
     },
     "metadata": {},
     "output_type": "display_data"
    },
    {
     "name": "stdout",
     "output_type": "stream",
     "text": [
      "unemployment, female (% of female labor force)\n"
     ]
    },
    {
     "data": {
      "image/png": "[encoded data removed]",
      "text/plain": [
       "<matplotlib.figure.Figure at 0x1ce81a0fe48>"
      ]
     },
     "metadata": {},
     "output_type": "display_data"
    },
    {
     "name": "stdout",
     "output_type": "stream",
     "text": [
      "unemployment, male (% of male labor force)\n"
     ]
    },
    {
     "data": {
      "image/png": "[encoded data removed]",
      "text/plain": [
       "<matplotlib.figure.Figure at 0x1ce81eac7b8>"
      ]
     },
     "metadata": {},
     "output_type": "display_data"
    },
    {
     "name": "stdout",
     "output_type": "stream",
     "text": [
      "unemployment, total (% of total labor force)\n"
     ]
    },
    {
     "data": {
      "image/png": "[encoded data removed]",
      "text/plain": [
       "<matplotlib.figure.Figure at 0x1ce81848ba8>"
      ]
     },
     "metadata": {},
     "output_type": "display_data"
    },
    {
     "name": "stdout",
     "output_type": "stream",
     "text": [
      "women's share of population ages 15+ living with hiv (%)\n"
     ]
    },
    {
     "data": {
      "image/png": "[encoded data removed]",
      "text/plain": [
       "<matplotlib.figure.Figure at 0x1ce81eac860>"
      ]
     },
     "metadata": {},
     "output_type": "display_data"
    }
   ],
   "source": [
    "fig = plt.figure(figsize=(8,4))\n",
    "\n",
    "# Look at distributions, 45 in total!\n",
    "for ind in test_data.columns:\n",
    "    print(ind)\n",
    "    test_data[ind].hist()\n",
    "    plt.show()\n",
    "\n",
    "#undernourished\n",
    "#hiv\n",
    "#print(health_expenditure)\n",
    "#print(malnutrition)\n",
    "#print(overweight)\n",
    "#print(immunization)\n",
    "#print(sanitation)\n",
    "#print(water)\n",
    "#print(anemia)\n",
    "#print(unemployment)"
   ]
  },
  {
   "cell_type": "markdown",
   "metadata": {},
   "source": [
    "### Replace remaining nulls with mean values for each column\n",
    "As the above charts are pretty inconsistently distributed choosing to replace the missing values with medians should be a valid choice."
   ]
  },
  {
   "cell_type": "code",
   "execution_count": 40,
   "metadata": {
    "collapsed": false
   },
   "outputs": [
    {
     "name": "stdout",
     "output_type": "stream",
     "text": [
      "\n",
      "adults (ages 15+) and children (0-14 years) living with hiv                        0\n",
      "adults (ages 15+) and children (ages 0-14) newly infected with hiv                 0\n",
      "adults (ages 15+) living with hiv                                                  0\n",
      "adults (ages 15+) newly infected with hiv                                          0\n",
      "antiretroviral therapy coverage (% of people living with hiv)                      0\n",
      "antiretroviral therapy coverage for pmtct (% of pregnant women living with hiv)    0\n",
      "children (0-14) living with hiv                                                    0\n",
      "children (ages 0-14) newly infected with hiv                                       0\n",
      "children orphaned by hiv/aids                                                      0\n",
      "health expenditure per capita (current us$)                                        0\n",
      "health expenditure per capita, ppp                                                 0\n",
      "health expenditure, private (% of gdp)                                             0\n",
      "health expenditure, private (% of total health expenditure)                        0\n",
      "health expenditure, public (% of gdp)                                              0\n",
      "health expenditure, public (% of total health expenditure)                         0\n",
      "health expenditure, total (% of gdp)                                               0\n",
      "immunization, bcg (% of one-year-old children)                                     0\n",
      "immunization, dpt (% of children ages 12-23 months)                                0\n",
      "immunization, hepb3 (% of one-year-old children)                                   0\n",
      "immunization, measles (% of children ages 12-23 months)                            0\n",
      "immunization, pol3 (% of one-year-old children)                                    0\n",
      "improved sanitation facilities (% of population with access)                       0\n",
      "improved sanitation facilities, rural (% of rural population with access)          0\n",
      "improved sanitation facilities, urban (% of urban population with access)          0\n",
      "improved water source (% of population with access)                                0\n",
      "improved water source, rural (% of rural population with access)                   0\n",
      "improved water source, urban (% of urban population with access)                   0\n",
      "incidence of hiv (% of uninfected population ages 15-49)                           0\n",
      "malnutrition prevalence, height for age (% of children under 5)                    0\n",
      "malnutrition prevalence, weight for age (% of children under 5)                    0\n",
      "number of people who are undernourished                                            0\n",
      "out-of-pocket health expenditure (% of private expenditure on health)              0\n",
      "out-of-pocket health expenditure (% of total expenditure on health)                0\n",
      "prevalence of anemia among children (% of children under 5)                        0\n",
      "prevalence of anemia among non-pregnant women (% of women ages 15-49)              0\n",
      "prevalence of anemia among pregnant women (%)                                      0\n",
      "prevalence of anemia among women of reproductive age (% of women ages 15-49)       0\n",
      "prevalence of hiv, female (% ages 15-24)                                           0\n",
      "prevalence of hiv, male (% ages 15-24)                                             0\n",
      "prevalence of hiv, total (% of population ages 15-49)                              0\n",
      "prevalence of overweight (% of children under 5)                                   0\n",
      "unemployment, female (% of female labor force)                                     0\n",
      "unemployment, male (% of male labor force)                                         0\n",
      "unemployment, total (% of total labor force)                                       0\n",
      "women's share of population ages 15+ living with hiv (%)                           0\n",
      "dtype: int64\n",
      "(26, 45)\n"
     ]
    }
   ],
   "source": [
    "# deal with missing values\n",
    "for col in test_data.columns:\n",
    "    median = test_data[col].median()\n",
    "    test_data[col].fillna(median, inplace=True)\n",
    "    \n",
    "print()\n",
    "print(test_data.isnull().sum())\n",
    "print(test_data.shape)"
   ]
  },
  {
   "cell_type": "code",
   "execution_count": 41,
   "metadata": {
    "collapsed": false
   },
   "outputs": [
    {
     "data": {
      "text/html": [
       "<div>\n",
       "<table border=\"1\" class=\"dataframe\">\n",
       "  <thead>\n",
       "    <tr style=\"text-align: right;\">\n",
       "      <th></th>\n",
       "      <th>adults (ages 15+) and children (0-14 years) living with hiv</th>\n",
       "      <th>adults (ages 15+) and children (ages 0-14) newly infected with hiv</th>\n",
       "      <th>adults (ages 15+) living with hiv</th>\n",
       "      <th>adults (ages 15+) newly infected with hiv</th>\n",
       "      <th>antiretroviral therapy coverage (% of people living with hiv)</th>\n",
       "      <th>antiretroviral therapy coverage for pmtct (% of pregnant women living with hiv)</th>\n",
       "      <th>children (0-14) living with hiv</th>\n",
       "      <th>children (ages 0-14) newly infected with hiv</th>\n",
       "      <th>children orphaned by hiv/aids</th>\n",
       "      <th>health expenditure per capita (current us$)</th>\n",
       "      <th>...</th>\n",
       "      <th>prevalence of anemia among pregnant women (%)</th>\n",
       "      <th>prevalence of anemia among women of reproductive age (% of women ages 15-49)</th>\n",
       "      <th>prevalence of hiv, female (% ages 15-24)</th>\n",
       "      <th>prevalence of hiv, male (% ages 15-24)</th>\n",
       "      <th>prevalence of hiv, total (% of population ages 15-49)</th>\n",
       "      <th>prevalence of overweight (% of children under 5)</th>\n",
       "      <th>unemployment, female (% of female labor force)</th>\n",
       "      <th>unemployment, male (% of male labor force)</th>\n",
       "      <th>unemployment, total (% of total labor force)</th>\n",
       "      <th>women's share of population ages 15+ living with hiv (%)</th>\n",
       "    </tr>\n",
       "  </thead>\n",
       "  <tbody>\n",
       "    <tr>\n",
       "      <th>1990</th>\n",
       "      <td>9100000.0</td>\n",
       "      <td>2000000.0</td>\n",
       "      <td>8700000.0</td>\n",
       "      <td>1800000.0</td>\n",
       "      <td>14.0</td>\n",
       "      <td>68.0</td>\n",
       "      <td>400000.0</td>\n",
       "      <td>190000.0</td>\n",
       "      <td>1100000.0</td>\n",
       "      <td>684.358052</td>\n",
       "      <td>...</td>\n",
       "      <td>40.673</td>\n",
       "      <td>31.2243</td>\n",
       "      <td>0.2</td>\n",
       "      <td>0.2</td>\n",
       "      <td>0.3</td>\n",
       "      <td>4.846598</td>\n",
       "      <td>6.523766</td>\n",
       "      <td>5.881956</td>\n",
       "      <td>6.140191</td>\n",
       "      <td>45.090596</td>\n",
       "    </tr>\n",
       "    <tr>\n",
       "      <th>1991</th>\n",
       "      <td>10900000.0</td>\n",
       "      <td>2300000.0</td>\n",
       "      <td>10400000.0</td>\n",
       "      <td>2100000.0</td>\n",
       "      <td>14.0</td>\n",
       "      <td>68.0</td>\n",
       "      <td>490000.0</td>\n",
       "      <td>220000.0</td>\n",
       "      <td>1400000.0</td>\n",
       "      <td>684.358052</td>\n",
       "      <td>...</td>\n",
       "      <td>40.673</td>\n",
       "      <td>31.2243</td>\n",
       "      <td>0.3</td>\n",
       "      <td>0.2</td>\n",
       "      <td>0.4</td>\n",
       "      <td>5.197416</td>\n",
       "      <td>6.711817</td>\n",
       "      <td>6.010209</td>\n",
       "      <td>6.299013</td>\n",
       "      <td>45.770025</td>\n",
       "    </tr>\n",
       "    <tr>\n",
       "      <th>1992</th>\n",
       "      <td>12900000.0</td>\n",
       "      <td>2600000.0</td>\n",
       "      <td>12300000.0</td>\n",
       "      <td>2400000.0</td>\n",
       "      <td>14.0</td>\n",
       "      <td>68.0</td>\n",
       "      <td>600000.0</td>\n",
       "      <td>260000.0</td>\n",
       "      <td>1800000.0</td>\n",
       "      <td>684.358052</td>\n",
       "      <td>...</td>\n",
       "      <td>40.673</td>\n",
       "      <td>31.2243</td>\n",
       "      <td>0.3</td>\n",
       "      <td>0.3</td>\n",
       "      <td>0.4</td>\n",
       "      <td>5.197416</td>\n",
       "      <td>6.204265</td>\n",
       "      <td>5.702540</td>\n",
       "      <td>5.888352</td>\n",
       "      <td>46.442748</td>\n",
       "    </tr>\n",
       "    <tr>\n",
       "      <th>1993</th>\n",
       "      <td>15000000.0</td>\n",
       "      <td>2800000.0</td>\n",
       "      <td>14200000.0</td>\n",
       "      <td>2500000.0</td>\n",
       "      <td>14.0</td>\n",
       "      <td>68.0</td>\n",
       "      <td>720000.0</td>\n",
       "      <td>300000.0</td>\n",
       "      <td>2300000.0</td>\n",
       "      <td>684.358052</td>\n",
       "      <td>...</td>\n",
       "      <td>40.673</td>\n",
       "      <td>31.2243</td>\n",
       "      <td>0.4</td>\n",
       "      <td>0.3</td>\n",
       "      <td>0.5</td>\n",
       "      <td>5.197416</td>\n",
       "      <td>6.438041</td>\n",
       "      <td>5.892892</td>\n",
       "      <td>6.113554</td>\n",
       "      <td>47.209321</td>\n",
       "    </tr>\n",
       "    <tr>\n",
       "      <th>1994</th>\n",
       "      <td>17200000.0</td>\n",
       "      <td>3100000.0</td>\n",
       "      <td>16300000.0</td>\n",
       "      <td>2800000.0</td>\n",
       "      <td>14.0</td>\n",
       "      <td>68.0</td>\n",
       "      <td>850000.0</td>\n",
       "      <td>340000.0</td>\n",
       "      <td>2800000.0</td>\n",
       "      <td>684.358052</td>\n",
       "      <td>...</td>\n",
       "      <td>40.673</td>\n",
       "      <td>31.2243</td>\n",
       "      <td>0.5</td>\n",
       "      <td>0.3</td>\n",
       "      <td>0.5</td>\n",
       "      <td>5.197416</td>\n",
       "      <td>6.387824</td>\n",
       "      <td>5.837490</td>\n",
       "      <td>6.051523</td>\n",
       "      <td>47.874319</td>\n",
       "    </tr>\n",
       "  </tbody>\n",
       "</table>\n",
       "<p>5 rows × 45 columns</p>\n",
       "</div>"
      ],
      "text/plain": [
       "      adults (ages 15+) and children (0-14 years) living with hiv  \\\n",
       "1990                                          9100000.0             \n",
       "1991                                         10900000.0             \n",
       "1992                                         12900000.0             \n",
       "1993                                         15000000.0             \n",
       "1994                                         17200000.0             \n",
       "\n",
       "      adults (ages 15+) and children (ages 0-14) newly infected with hiv  \\\n",
       "1990                                          2000000.0                    \n",
       "1991                                          2300000.0                    \n",
       "1992                                          2600000.0                    \n",
       "1993                                          2800000.0                    \n",
       "1994                                          3100000.0                    \n",
       "\n",
       "      adults (ages 15+) living with hiv  \\\n",
       "1990                          8700000.0   \n",
       "1991                         10400000.0   \n",
       "1992                         12300000.0   \n",
       "1993                         14200000.0   \n",
       "1994                         16300000.0   \n",
       "\n",
       "      adults (ages 15+) newly infected with hiv  \\\n",
       "1990                                  1800000.0   \n",
       "1991                                  2100000.0   \n",
       "1992                                  2400000.0   \n",
       "1993                                  2500000.0   \n",
       "1994                                  2800000.0   \n",
       "\n",
       "      antiretroviral therapy coverage (% of people living with hiv)  \\\n",
       "1990                                               14.0               \n",
       "1991                                               14.0               \n",
       "1992                                               14.0               \n",
       "1993                                               14.0               \n",
       "1994                                               14.0               \n",
       "\n",
       "      antiretroviral therapy coverage for pmtct (% of pregnant women living with hiv)  \\\n",
       "1990                                               68.0                                 \n",
       "1991                                               68.0                                 \n",
       "1992                                               68.0                                 \n",
       "1993                                               68.0                                 \n",
       "1994                                               68.0                                 \n",
       "\n",
       "      children (0-14) living with hiv  \\\n",
       "1990                         400000.0   \n",
       "1991                         490000.0   \n",
       "1992                         600000.0   \n",
       "1993                         720000.0   \n",
       "1994                         850000.0   \n",
       "\n",
       "      children (ages 0-14) newly infected with hiv  \\\n",
       "1990                                      190000.0   \n",
       "1991                                      220000.0   \n",
       "1992                                      260000.0   \n",
       "1993                                      300000.0   \n",
       "1994                                      340000.0   \n",
       "\n",
       "      children orphaned by hiv/aids  \\\n",
       "1990                      1100000.0   \n",
       "1991                      1400000.0   \n",
       "1992                      1800000.0   \n",
       "1993                      2300000.0   \n",
       "1994                      2800000.0   \n",
       "\n",
       "      health expenditure per capita (current us$)  \\\n",
       "1990                                   684.358052   \n",
       "1991                                   684.358052   \n",
       "1992                                   684.358052   \n",
       "1993                                   684.358052   \n",
       "1994                                   684.358052   \n",
       "\n",
       "                                ...                             \\\n",
       "1990                            ...                              \n",
       "1991                            ...                              \n",
       "1992                            ...                              \n",
       "1993                            ...                              \n",
       "1994                            ...                              \n",
       "\n",
       "      prevalence of anemia among pregnant women (%)  \\\n",
       "1990                                         40.673   \n",
       "1991                                         40.673   \n",
       "1992                                         40.673   \n",
       "1993                                         40.673   \n",
       "1994                                         40.673   \n",
       "\n",
       "      prevalence of anemia among women of reproductive age (% of women ages 15-49)  \\\n",
       "1990                                            31.2243                              \n",
       "1991                                            31.2243                              \n",
       "1992                                            31.2243                              \n",
       "1993                                            31.2243                              \n",
       "1994                                            31.2243                              \n",
       "\n",
       "      prevalence of hiv, female (% ages 15-24)  \\\n",
       "1990                                       0.2   \n",
       "1991                                       0.3   \n",
       "1992                                       0.3   \n",
       "1993                                       0.4   \n",
       "1994                                       0.5   \n",
       "\n",
       "      prevalence of hiv, male (% ages 15-24)  \\\n",
       "1990                                     0.2   \n",
       "1991                                     0.2   \n",
       "1992                                     0.3   \n",
       "1993                                     0.3   \n",
       "1994                                     0.3   \n",
       "\n",
       "      prevalence of hiv, total (% of population ages 15-49)  \\\n",
       "1990                                                0.3       \n",
       "1991                                                0.4       \n",
       "1992                                                0.4       \n",
       "1993                                                0.5       \n",
       "1994                                                0.5       \n",
       "\n",
       "      prevalence of overweight (% of children under 5)  \\\n",
       "1990                                          4.846598   \n",
       "1991                                          5.197416   \n",
       "1992                                          5.197416   \n",
       "1993                                          5.197416   \n",
       "1994                                          5.197416   \n",
       "\n",
       "      unemployment, female (% of female labor force)  \\\n",
       "1990                                        6.523766   \n",
       "1991                                        6.711817   \n",
       "1992                                        6.204265   \n",
       "1993                                        6.438041   \n",
       "1994                                        6.387824   \n",
       "\n",
       "      unemployment, male (% of male labor force)  \\\n",
       "1990                                    5.881956   \n",
       "1991                                    6.010209   \n",
       "1992                                    5.702540   \n",
       "1993                                    5.892892   \n",
       "1994                                    5.837490   \n",
       "\n",
       "      unemployment, total (% of total labor force)  \\\n",
       "1990                                      6.140191   \n",
       "1991                                      6.299013   \n",
       "1992                                      5.888352   \n",
       "1993                                      6.113554   \n",
       "1994                                      6.051523   \n",
       "\n",
       "      women's share of population ages 15+ living with hiv (%)  \n",
       "1990                                          45.090596         \n",
       "1991                                          45.770025         \n",
       "1992                                          46.442748         \n",
       "1993                                          47.209321         \n",
       "1994                                          47.874319         \n",
       "\n",
       "[5 rows x 45 columns]"
      ]
     },
     "execution_count": 41,
     "metadata": {},
     "output_type": "execute_result"
    }
   ],
   "source": [
    "test_data.head(5)"
   ]
  },
  {
   "cell_type": "code",
   "execution_count": 42,
   "metadata": {
    "collapsed": false
   },
   "outputs": [],
   "source": [
    "# standardise X values\n",
    "from sklearn.preprocessing import StandardScaler\n",
    "ss = StandardScaler()\n",
    "test_data[test_data.columns] = ss.fit_transform(test_data)\n",
    "test_data[y_indicator] = y.T"
   ]
  },
  {
   "cell_type": "markdown",
   "metadata": {},
   "source": [
    "### Get top 10 correlations"
   ]
  },
  {
   "cell_type": "code",
   "execution_count": 43,
   "metadata": {
    "collapsed": false,
    "scrolled": false
   },
   "outputs": [
    {
     "name": "stdout",
     "output_type": "stream",
     "text": [
      "Top 10 Absolute Correlations\n",
      "\n",
      "improved water source, rural (% of rural population with access)             0.998171\n",
      "improved sanitation facilities (% of population with access)                 0.997769\n",
      "improved sanitation facilities, rural (% of rural population with access)    0.997197\n",
      "improved water source (% of population with access)                          0.996388\n",
      "improved water source, urban (% of urban population with access)             0.994772\n",
      "improved sanitation facilities, urban (% of urban population with access)    0.990678\n",
      "children orphaned by hiv/aids                                                0.960222\n",
      "immunization, measles (% of children ages 12-23 months)                      0.929463\n",
      "immunization, pol3 (% of one-year-old children)                              0.916945\n",
      "adults (ages 15+) living with hiv                                            0.913065\n",
      "Name: life expectancy at birth, total (years), dtype: float64\n"
     ]
    }
   ],
   "source": [
    "corr = test_data.corr()\n",
    "\n",
    "# Only look at the correlation values related to SalePrice\n",
    "print('Top 10 Absolute Correlations\\n')\n",
    "top_corr = corr['life expectancy at birth, total (years)'].abs().sort_values(ascending=False)[1:11]\n",
    "print(top_corr)"
   ]
  },
  {
   "cell_type": "markdown",
   "metadata": {},
   "source": [
    "### Function to plot multiple indicators on the same chart"
   ]
  },
  {
   "cell_type": "code",
   "execution_count": 44,
   "metadata": {
    "collapsed": false
   },
   "outputs": [],
   "source": [
    "def multi_line_plots(ind_data, indicator):\n",
    "    legends = []\n",
    "    for ind in indicator:\n",
    "        subset = ind_data[ind_data['Indicator Name'] == ind]\n",
    "        #print(subset)\n",
    "        #title = 'Title {} to {}'.format(range_min, range_max)\n",
    "        legends.append(ind)\n",
    "        row = subset.iloc[0]\n",
    "        #print(row)\n",
    "        x = []\n",
    "        y = []\n",
    "        for year in year_columns:\n",
    "            #print(row[year])\n",
    "            x.append(year)\n",
    "            y.append(row[year])\n",
    "        plt.plot(x, y)\n",
    "\n",
    "    #plt.title('Title')\n",
    "    plt.legend(legends, loc='best')\n",
    "    #plt.ylabel(\"Percentage\")\n",
    "    plt.show()"
   ]
  },
  {
   "cell_type": "markdown",
   "metadata": {},
   "source": [
    "### Plot histograms of predictor variables\n",
    "These do not show normal distributions of the standardised features."
   ]
  },
  {
   "cell_type": "code",
   "execution_count": 45,
   "metadata": {
    "collapsed": false
   },
   "outputs": [],
   "source": [
    "# Choose the following 4 to plot (several of the top 10 are very similar measures)\n",
    "\n",
    "# 'improved water source, rural (% of rural population with access)'\n",
    "# 'improved sanitation facilities (% of population with access)'\n",
    "# 'children orphaned by hiv/aids'\n",
    "# 'immunization, measles (% of children ages 12-23 months)'\n",
    "\n",
    "fig = plt.figure(figsize=(8,4))\n",
    "ax = fig.gca()"
   ]
  },
  {
   "cell_type": "code",
   "execution_count": 46,
   "metadata": {
    "collapsed": false,
    "scrolled": false
   },
   "outputs": [
    {
     "data": {
      "image/png": "[encoded data removed]",
      "text/plain": [
       "<matplotlib.figure.Figure at 0x1ce81a030b8>"
      ]
     },
     "metadata": {},
     "output_type": "display_data"
    },
    {
     "data": {
      "image/png": "[encoded data removed]",
      "text/plain": [
       "<matplotlib.figure.Figure at 0x1ce81c649b0>"
      ]
     },
     "metadata": {},
     "output_type": "display_data"
    },
    {
     "data": {
      "image/png": "[encoded data removed]",
      "text/plain": [
       "<matplotlib.figure.Figure at 0x1ce818b3dd8>"
      ]
     },
     "metadata": {},
     "output_type": "display_data"
    },
    {
     "data": {
      "image/png": "[encoded data removed]",
      "text/plain": [
       "<matplotlib.figure.Figure at 0x1ce81897da0>"
      ]
     },
     "metadata": {},
     "output_type": "display_data"
    }
   ],
   "source": [
    "ax = sns.distplot(test_data['improved water source, rural (% of rural population with access)'], bins=40, kde=False)\n",
    "plt.show()\n",
    "ax = sns.distplot(test_data['improved sanitation facilities (% of population with access)'], bins=40, kde=False)\n",
    "plt.show()\n",
    "ax = sns.distplot(test_data['children orphaned by hiv/aids'], bins=40, kde=False)\n",
    "plt.show()\n",
    "ax = sns.distplot(test_data['immunization, measles (% of children ages 12-23 months)'], bins=40, kde=False)\n",
    "plt.show()"
   ]
  },
  {
   "cell_type": "markdown",
   "metadata": {},
   "source": [
    "### Other charts of predictor variables"
   ]
  },
  {
   "cell_type": "code",
   "execution_count": 47,
   "metadata": {
    "collapsed": true
   },
   "outputs": [],
   "source": [
    "fig_size = plt.rcParams[\"figure.figsize\"]\n",
    "fig_size_default = fig_size\n",
    "\n",
    "fig_size = [12, 6]\n",
    "plt.rcParams[\"figure.figsize\"] = fig_size"
   ]
  },
  {
   "cell_type": "code",
   "execution_count": 48,
   "metadata": {
    "collapsed": false
   },
   "outputs": [
    {
     "data": {
      "image/png": "[encoded data removed]",
      "text/plain": [
       "<matplotlib.figure.Figure at 0x1ce81d89710>"
      ]
     },
     "metadata": {},
     "output_type": "display_data"
    }
   ],
   "source": [
    "# do a box plot to check that the standardising has worked\n",
    "test_data_box = test_data.copy()\n",
    "test_data_box.drop(y_indicator, axis=1, inplace=True)\n",
    "test_data_box.plot.box(rot=90)\n",
    "plt.show()\n",
    "\n",
    "plt.rcParams[\"figure.figsize\"] = fig_size_default"
   ]
  },
  {
   "cell_type": "code",
   "execution_count": 49,
   "metadata": {
    "collapsed": false
   },
   "outputs": [],
   "source": [
    "fig = plt.figure(figsize=(8,4))\n",
    "ax = fig.gca()\n",
    "\n",
    "# 'improved sanitation facilities (% of population with access)'\n",
    "# 'improved water source, rural (% of rural population with access)'\n",
    "# 'immunization, measles (% of children ages 12-23 months)'\n",
    "# 'children orphaned by hiv/aids'\n",
    "\n",
    "years = []\n",
    "year = 1990\n",
    "for i in range(26):\n",
    "    years.append(year+i)\n",
    "x_pos = years\n",
    "\n",
    "def barchart(x_pos, col):\n",
    "    y_pos = test_data[col].values\n",
    "    y_pos = [n for n in y_pos]\n",
    "    plt.bar(x_pos, y_pos, align='center')\n",
    "    plt.title(col)\n",
    "    plt.show()"
   ]
  },
  {
   "cell_type": "markdown",
   "metadata": {},
   "source": [
    "### A greater percentage of the rural population has access to better water"
   ]
  },
  {
   "cell_type": "code",
   "execution_count": 50,
   "metadata": {
    "collapsed": false
   },
   "outputs": [
    {
     "data": {
      "image/png": "[encoded data removed]",
      "text/plain": [
       "<matplotlib.figure.Figure at 0x1ce8230f7b8>"
      ]
     },
     "metadata": {},
     "output_type": "display_data"
    }
   ],
   "source": [
    "col = 'improved water source, rural (% of rural population with access)'\n",
    "barchart(x_pos, col)"
   ]
  },
  {
   "cell_type": "markdown",
   "metadata": {},
   "source": [
    "### A greater percentage of the population has access to improved sanitation"
   ]
  },
  {
   "cell_type": "code",
   "execution_count": 51,
   "metadata": {
    "collapsed": false
   },
   "outputs": [
    {
     "data": {
      "image/png": "[encoded data removed]",
      "text/plain": [
       "<matplotlib.figure.Figure at 0x1ce8218bac8>"
      ]
     },
     "metadata": {},
     "output_type": "display_data"
    }
   ],
   "source": [
    "col = 'improved sanitation facilities (% of population with access)'\n",
    "barchart(x_pos, col)"
   ]
  },
  {
   "cell_type": "markdown",
   "metadata": {},
   "source": [
    "### Children orphaned by AIDS is going down after peaking around 2009"
   ]
  },
  {
   "cell_type": "code",
   "execution_count": 52,
   "metadata": {
    "collapsed": false
   },
   "outputs": [
    {
     "data": {
      "image/png": "[encoded data removed]",
      "text/plain": [
       "<matplotlib.figure.Figure at 0x1ce825bedd8>"
      ]
     },
     "metadata": {},
     "output_type": "display_data"
    }
   ],
   "source": [
    "col = 'children orphaned by hiv/aids'\n",
    "barchart(x_pos, col)"
   ]
  },
  {
   "cell_type": "markdown",
   "metadata": {},
   "source": [
    "### Immunization against measles seems to have plateaued"
   ]
  },
  {
   "cell_type": "code",
   "execution_count": 53,
   "metadata": {
    "collapsed": false,
    "scrolled": false
   },
   "outputs": [
    {
     "data": {
      "image/png": "[encoded data removed]",
      "text/plain": [
       "<matplotlib.figure.Figure at 0x1ce82242e80>"
      ]
     },
     "metadata": {},
     "output_type": "display_data"
    }
   ],
   "source": [
    "col = 'immunization, measles (% of children ages 12-23 months)'\n",
    "barchart(x_pos, col)"
   ]
  },
  {
   "cell_type": "markdown",
   "metadata": {},
   "source": [
    "### Plot 'World' life expectancy"
   ]
  },
  {
   "cell_type": "code",
   "execution_count": 54,
   "metadata": {
    "collapsed": false
   },
   "outputs": [
    {
     "name": "stdout",
     "output_type": "stream",
     "text": [
      "World\n"
     ]
    },
    {
     "data": {
      "image/png": "[encoded data removed]",
      "text/plain": [
       "<matplotlib.figure.Figure at 0x1cef798c400>"
      ]
     },
     "metadata": {},
     "output_type": "display_data"
    }
   ],
   "source": [
    "print('World')\n",
    "the_data = data_countries_indicators_years(['World'], life_expectancy, [])\n",
    "multi_line_plots(the_data, life_expectancy)"
   ]
  },
  {
   "cell_type": "markdown",
   "metadata": {},
   "source": [
    "### Have a play with one of the categories"
   ]
  },
  {
   "cell_type": "code",
   "execution_count": 55,
   "metadata": {
    "collapsed": false
   },
   "outputs": [],
   "source": [
    "#for id in income_categories:\n",
    "#    print(id)\n",
    "#    ind_data = data_countries_indicators_years([id], sanitation, [])\n",
    "#    multi_line_plots(ind_data, sanitation)"
   ]
  },
  {
   "cell_type": "markdown",
   "metadata": {},
   "source": [
    "### Indicators that haven't been classified into groups\n",
    "Some may be used, others may be ignored, yet to be determined. The indicators related to 'primary completion rate' should not be here as there is a broad category for this already (numpy.setdiff1d is failing)."
   ]
  },
  {
   "cell_type": "code",
   "execution_count": 56,
   "metadata": {
    "collapsed": false
   },
   "outputs": [
    {
     "name": "stdout",
     "output_type": "stream",
     "text": [
      "Unclassified indicators 46\n",
      "age dependency ratio, old\n",
      "age dependency ratio, young\n",
      "ari treatment (% of children under 5 taken to a health provider)\n",
      "children with fever receiving antimalarial drugs (% of children under age 5 with fever)\n",
      "community health workers (per 1,000 people)\n",
      "consumption of iodized salt (% of households)\n",
      "demand for family planning satisfied by any methods (% of married women with demand for family planning)\n",
      "demand for family planning satisfied by modern methods (% of married women with demand for family planning)\n",
      "exclusive breastfeeding (% of children under 6 months)\n",
      "external resources for health (% of total expenditure on health)\n",
      "female headed households (% of households with a female head)\n",
      "gni per capita, atlas method (current us$)\n",
      "hospital beds (per 1,000 people)\n",
      "infant and young child feeding practices, all 3 iycf (% children ages 6-23 months)\n",
      "labor force, female (% of total labor force)\n",
      "labor force, total\n",
      "literacy rate, adult female (% of females ages 15 and above)\n",
      "literacy rate, adult male (% of males ages 15 and above)\n",
      "literacy rate, adult total (% of people ages 15 and above)\n",
      "literacy rate, youth male (% of males ages 15-24)\n",
      "literacy rate, youth total (% of people ages 15-24)\n",
      "malaria cases reported\n",
      "mortality caused by road traffic injury (per 100,000 people)\n",
      "net migration\n",
      "newborns protected against tetanus (%)\n",
      "number of weeks of maternity leave\n",
      "nurses and midwives (per 1,000 people)\n",
      "physicians (per 1,000 people)\n",
      "postnatal care coverage (% mothers)\n",
      "pregnant women receiving prenatal care (%)\n",
      "pregnant women receiving prenatal care of at least four visits (% of pregnant women)\n",
      "prevalence of syphilis (% of women attending antenatal care)\n",
      "primary completion rate, female (% of relevant age group)\n",
      "primary completion rate, male (% of relevant age group)\n",
      "primary completion rate, total (% of relevant age group)\n",
      "public spending on education, total (% of gdp)\n",
      "ratio of school attendance of orphans to school attendance of non-orphans ages 10-14\n",
      "ratio of young literate females to males (% ages 15-24)\n",
      "risk of catastrophic expenditure for surgical care (% of people at risk)\n",
      "risk of impoverishing expenditure for surgical care (% of people at risk)\n",
      "share of women employed in the nonagricultural sector (% of total nonagricultural employment)\n",
      "teenage mothers (% of women ages 15-19 who have had children or are currently pregnant)\n",
      "unmet need for contraception (% of married women ages 15-49)\n",
      "use of any antimalarial drug (% of pregnant women)\n",
      "use of intermittent preventive treatment of malaria, 2+ doses of sp/fansidar (% of pregnant women)\n",
      "vitamin a supplementation coverage rate (% of children ages 6-59 months)\n"
     ]
    }
   ],
   "source": [
    "print(\"Unclassified indicators\", len(indicators))\n",
    "for ind in indicators:\n",
    "    print(ind)"
   ]
  }
 ],
 "metadata": {
  "kernelspec": {
   "display_name": "Python 3",
   "language": "python",
   "name": "python3"
  },
  "language_info": {
   "codemirror_mode": {
    "name": "ipython",
    "version": 3
   },
   "file_extension": ".py",
   "mimetype": "text/x-python",
   "name": "python",
   "nbconvert_exporter": "python",
   "pygments_lexer": "ipython3",
   "version": "3.6.0"
  }
 },
 "nbformat": 4,
 "nbformat_minor": 2
}
